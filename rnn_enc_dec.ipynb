{
 "cells": [
  {
   "cell_type": "code",
   "execution_count": 1,
   "metadata": {
    "ExecuteTime": {
     "end_time": "2018-09-17T16:08:35.267054Z",
     "start_time": "2018-09-17T16:08:35.261142Z"
    }
   },
   "outputs": [],
   "source": [
    "import sys\n",
    "import os\n",
    "import time\n",
    "import random\n",
    "import re\n",
    "import json\n",
    "import pickle\n",
    "from typing import List, Tuple, Dict, Callable, Optional, Any, Sequence, Mapping, NamedTuple"
   ]
  },
  {
   "cell_type": "code",
   "execution_count": 2,
   "metadata": {
    "ExecuteTime": {
     "end_time": "2018-09-17T16:08:36.110491Z",
     "start_time": "2018-09-17T16:08:35.268068Z"
    }
   },
   "outputs": [
    {
     "name": "stderr",
     "output_type": "stream",
     "text": [
      "/home/kentaro.nakanishi/.pyenv/versions/3.6.5/lib/python3.6/importlib/_bootstrap.py:219: RuntimeWarning: numpy.dtype size changed, may indicate binary incompatibility. Expected 96, got 88\n",
      "  return f(*args, **kwds)\n",
      "/home/kentaro.nakanishi/.pyenv/versions/3.6.5/lib/python3.6/importlib/_bootstrap.py:219: RuntimeWarning: numpy.dtype size changed, may indicate binary incompatibility. Expected 96, got 88\n",
      "  return f(*args, **kwds)\n"
     ]
    }
   ],
   "source": [
    "import tensorflow as tf\n",
    "from tensorflow import Tensor\n",
    "import numpy as np\n",
    "import matplotlib as plt"
   ]
  },
  {
   "cell_type": "code",
   "execution_count": 3,
   "metadata": {
    "ExecuteTime": {
     "end_time": "2018-09-17T16:08:36.113875Z",
     "start_time": "2018-09-17T16:08:36.111534Z"
    }
   },
   "outputs": [],
   "source": [
    "from utils.config import Config\n",
    "#from data_loader.docomo_datasource import DocomoDataSource"
   ]
  },
  {
   "cell_type": "code",
   "execution_count": 4,
   "metadata": {
    "ExecuteTime": {
     "end_time": "2018-09-17T16:08:36.197658Z",
     "start_time": "2018-09-17T16:08:36.114846Z"
    }
   },
   "outputs": [],
   "source": [
    "units = [256, 512, 1024]\n",
    "layers = [2, 4, 6]\n",
    "lrs = [0.01, 0.001, 0.0001]\n",
    "configs = []\n",
    "for l in layers:\n",
    "    for u in units:\n",
    "        for lr in lrs:\n",
    "            configs.append(Config(num_layers=l, num_units=u, learning_rate=lr, log_dir='./logs/rnn/'))"
   ]
  },
  {
   "cell_type": "code",
   "execution_count": 5,
   "metadata": {
    "ExecuteTime": {
     "end_time": "2018-09-17T16:08:36.343299Z",
     "start_time": "2018-09-17T16:08:36.199732Z"
    }
   },
   "outputs": [
    {
     "data": {
      "text/plain": [
       "Config(num_units=256, num_layers=2, num_heads=8, num_outputs=10000, batch_size=128, max_length=50, dropout_in_rate=0.1, dropout_out_rate=0.2, learning_rate=0.01, grad_clip=5.0, is_layer_norm=False, data_path='./data/', log_dir='./logs/rnn/', scheduled_sampling_rate=0.0)"
      ]
     },
     "execution_count": 5,
     "metadata": {},
     "output_type": "execute_result"
    }
   ],
   "source": [
    "configs[0]"
   ]
  },
  {
   "cell_type": "code",
   "execution_count": 6,
   "metadata": {
    "ExecuteTime": {
     "end_time": "2018-09-17T16:08:36.421336Z",
     "start_time": "2018-09-17T16:08:36.348644Z"
    }
   },
   "outputs": [],
   "source": [
    "class DocomoDataSource:\n",
    "    \n",
    "    def __init__(self, config):\n",
    "        self._config = config\n",
    "        self._ask, self._res = self.load_data()\n",
    "        self._create_tokenizer()\n",
    "    \n",
    "    def load_data(self):\n",
    "        data = json.load(open(os.path.join(self._config.data_path, 'docomo-weight.json'), 'r'))\n",
    "        ask = [s['a'] for s in data['dialogue']]\n",
    "        res = [s['r'] for s in data['dialogue']]\n",
    "        return ask, res\n",
    "    \n",
    "    def feed_dict(self, model, batch_size: int):\n",
    "        inputs = []\n",
    "        inputs_length = []\n",
    "        targets = []\n",
    "        targets_length = []\n",
    "        \n",
    "        num_batch = len(self._ask) // batch_size\n",
    "        batch = []\n",
    "        \n",
    "        for i in range(num_batch):\n",
    "            start_index = batch_size * i\n",
    "            end_index = batch_size * (i + 1)\n",
    "            inputs = self._ask[start_index:end_index]\n",
    "            targets = self._res[start_index:end_index]\n",
    "            d = self._create_dict(model, inputs, targets)\n",
    "            \n",
    "            batch.append(d)\n",
    "\n",
    "        return batch\n",
    "    \n",
    "    def shuffle(self):\n",
    "        data = list(zip(self._ask, self._res))\n",
    "        data = np.array(random.sample(data, len(data)))\n",
    "        self._ask, self._res = data[:, 0], data[:, 1]\n",
    "        \n",
    "    def _create_dict(self, model, inputs: List[str], targets: List[str]):\n",
    "        inputs = self.batch(inputs, suffix=[self.eos_id])\n",
    "        inputs_length = [len(input) for input in inputs]\n",
    "        encoder_targets = self.batch(targets, prefix=[self.bos_id])\n",
    "        decoder_targets = self.batch(targets, suffix=[self.eos_id])\n",
    "        encoder_targets_length = [len(target) for target in encoder_targets]\n",
    "        decoder_targets_length = [len(target) for target in decoder_targets]\n",
    "        d = {\n",
    "            model.inputs: inputs,\n",
    "            model.inputs_length: inputs_length,\n",
    "            model.encoder_targets: encoder_targets,\n",
    "            model.encoder_targets_length: encoder_targets_length,\n",
    "            model.decoder_targets: decoder_targets,\n",
    "            model.decoder_targets_length: decoder_targets_length\n",
    "        }\n",
    "        return d\n",
    "    \n",
    "    def _create_tokenizer(self):\n",
    "        with open('./data/vocab.pkl', 'rb') as f:\n",
    "            self._word_to_id, self._id_to_word = pickle.load(f)\n",
    "            \n",
    "    def id_list_to_sentence(self, id_list: List[int]):\n",
    "        return [self._id_to_word[idx] for idx in id_list]\n",
    "    \n",
    "    def sentence_to_id_list(self, sentence: str):\n",
    "        return [self._word_to_id[word] for word in sentence]\n",
    "    \n",
    "    def batch(self, batch: List[str], prefix=None, suffix=None):\n",
    "        prefix = prefix or []\n",
    "        suffix = suffix or []\n",
    "        batch_list = [prefix + self.sentence_to_id_list(b) + suffix for b in batch]\n",
    "        batch_list = [batch + [0] * (self._config.max_length - len(batch)) for batch in batch_list]\n",
    "        return batch_list\n",
    "    \n",
    "    @property\n",
    "    def eos_id(self):\n",
    "        return self._word_to_id['<eos>']\n",
    "    \n",
    "    @property\n",
    "    def bos_id(self):\n",
    "        return self._word_to_id['<bos>']\n",
    "    \n",
    "    @property\n",
    "    def vocab_size(self):\n",
    "        return len(self._word_to_id)\n",
    "                       \n",
    "            "
   ]
  },
  {
   "cell_type": "code",
   "execution_count": 7,
   "metadata": {
    "ExecuteTime": {
     "end_time": "2018-09-17T16:08:36.608430Z",
     "start_time": "2018-09-17T16:08:36.426236Z"
    }
   },
   "outputs": [],
   "source": [
    "ds = DocomoDataSource(configs[0])"
   ]
  },
  {
   "cell_type": "code",
   "execution_count": null,
   "metadata": {
    "ExecuteTime": {
     "end_time": "2018-09-17T15:13:54.203366Z",
     "start_time": "2018-09-17T15:13:54.186163Z"
    }
   },
   "outputs": [],
   "source": []
  },
  {
   "cell_type": "code",
   "execution_count": 8,
   "metadata": {
    "ExecuteTime": {
     "end_time": "2018-09-17T16:08:36.665971Z",
     "start_time": "2018-09-17T16:08:36.611664Z"
    }
   },
   "outputs": [],
   "source": [
    "class RNN:\n",
    "    \n",
    "    def __init__(self, config: Config, vocab_size):\n",
    "        self.config = config\n",
    "        self.vocab_size = vocab_size\n",
    "        self._create_placeholder()\n",
    "        self._create_model()\n",
    "        self.loss = self._create_loss()\n",
    "        self.accuracy = self._create_acc()\n",
    "    \n",
    "    def _create_placeholder(self):\n",
    "        self.is_training = tf.placeholder(shape=(), dtype=tf.bool, name='is_training')\n",
    "        self.inputs = tf.placeholder(shape=[None, self.config.max_length], dtype=tf.int32, name='inputs')\n",
    "        self.inputs_length = tf.placeholder(shape=[None], dtype=tf.int32, name='inputs_length')\n",
    "        self.encoder_targets = tf.placeholder(shape=[None, self.config.max_length], dtype=tf.int32, name='encoder_targets')\n",
    "        self.encoder_targets_length = tf.placeholder(shape=[None], dtype=tf.int32, name='encoder_targets_length')\n",
    "        self.decoder_targets = tf.placeholder(shape=[None, self.config.max_length], dtype=tf.int32, name='decoder_targets')\n",
    "        self.decoder_targets_length = tf.placeholder(shape=[None], dtype=tf.int32, name='decoder_targets_length')\n",
    "    \n",
    "    def _create_model(self):\n",
    "        self.global_step = tf.train.get_or_create_global_step()\n",
    "        embedded_inputs = self._embedding(self.inputs)\n",
    "        encoder_outputs, encoder_state = self._encode(embedded_inputs)\n",
    "        #attention_mechanism = self._prepare_encoder_attention(encoder_outputs, self.inputs_length)\n",
    "        attention_mechanism = None\n",
    "        self.outputs_logits = self._train_decoder(encoder_state, self.encoder_targets, self.encoder_targets_length, attention_mechanism)\n",
    "        self.predicted_id = tf.to_int32(tf.argmax(self.outputs_logits, axis=-1))\n",
    "        \n",
    "    def _create_loss(self):\n",
    "        target_ids_one_hot = tf.one_hot(self.decoder_targets, self.vocab_size)\n",
    "        target_ids_smoothed = self._label_smoothing(target_ids_one_hot)\n",
    "        cross_ent = tf.nn.softmax_cross_entropy_with_logits_v2(logits=self.outputs_logits, labels=target_ids_smoothed)\n",
    "        return tf.reduce_mean(cross_ent)\n",
    "        \n",
    "    def _create_acc(self):\n",
    "        return tf.reduce_mean(tf.to_float(tf.equal(self.decoder_targets, self.predicted_id)))\n",
    "    \n",
    "    def _create_perplexity(self):\n",
    "        probs = tf.nn.softmax(self.outputs_logits)\n",
    "        target_probs = np.zeros(self.decoder_targets.shape[0])\n",
    "        for (i, target) in enumerate(self.decoder_targets):\n",
    "            target_probs[i] = probs[i, target]\n",
    "        return 1.0/target_probs\n",
    "    \n",
    "    def _embedding(self, inputs):\n",
    "        self.lookup_table = tf.get_variable('lookup_table', shape=[self.vocab_size, self.config.embedding_size], dtype=tf.float32)\n",
    "        embedded_inputs = tf.nn.embedding_lookup(self.lookup_table, inputs)\n",
    "        return embedded_inputs\n",
    "    \n",
    "    def _encode(self, embedded_inputs):\n",
    "        outputs, final_state = self._bidirectional_cell(\n",
    "            embedded_inputs,\n",
    "            self.config.num_layers,\n",
    "            self.config.num_units,\n",
    "            self.config.dropout_in_rate,\n",
    "            self.config.dropout_out_rate\n",
    "        )\n",
    "        return outputs, final_state\n",
    "    \n",
    "    def _train_decoder(self, encoder_state: Tuple[Tensor, Tensor],\n",
    "                      inputs_data: Tensor,\n",
    "                      inputs_length: Tensor,\n",
    "                      attention_mechanism: Tensor) -> Tensor:\n",
    "        '''\n",
    "        :params encoder_state: thought vector from encoder\n",
    "        :params [batch_size, num_text_id] inputs_data:\n",
    "        :params [batch_size] inputs_length:\n",
    "        :return: (10, ?, 3023)\n",
    "        '''\n",
    "        multi_cells = self._gru(self.config.num_layers, self.config.num_units * 2, self.config.dropout_in_rate, self.config.dropout_out_rate, 'decoder_cell')\n",
    "        #attention_cells = self._prepare_decoder_attention(attention_mechanism, multi_cells, attention_size=self.config.num_units*2)\n",
    "        output_layer = tf.layers.Dense(self.vocab_size, use_bias=False, name=\"output_layer\")\n",
    "\n",
    "        decoder_inputs = tf.nn.embedding_lookup(self.lookup_table, inputs_data)\n",
    "        this_batch_size, _ = tf.unstack(tf.shape(inputs_data))\n",
    "        #decoder_initial_state = attention_cells.zero_state(batch_size=this_batch_size, dtype=tf.float32)\n",
    "        #decoder_initial_state = decoder_initial_state.clone(cell_state=encoder_state)\n",
    "        decoder_initial_state = encoder_state\n",
    "\n",
    "        helper = tf.contrib.seq2seq.ScheduledEmbeddingTrainingHelper(\n",
    "            inputs=decoder_inputs,\n",
    "            sequence_length=tf.cast(inputs_length, dtype=tf.int32),\n",
    "            embedding=self.lookup_table,\n",
    "            sampling_probability=self.config.scheduled_sampling_rate\n",
    "        )\n",
    "\n",
    "        decoder = tf.contrib.seq2seq.BasicDecoder(\n",
    "            multi_cells, helper, decoder_initial_state,\n",
    "            output_layer=output_layer\n",
    "        )\n",
    "        outputs, _, _ = tf.contrib.seq2seq.dynamic_decode(decoder, swap_memory=True, scope='decoder')\n",
    "        return outputs.rnn_output\n",
    "    \n",
    "    def _bidirectional_cell(self, inputs, num_layers, num_units, dropout_in_rate, dropout_out_rate):\n",
    "        cell_fw = self._gru(num_layers, num_units, dropout_in_rate, dropout_out_rate, name='cell_fw')\n",
    "        cell_bw = self._gru(num_layers, num_units, dropout_in_rate, dropout_out_rate, name='cell_bw')\n",
    "        (fw_outputs, bw_outputs), (fw_state, bw_state) = tf.nn.bidirectional_dynamic_rnn(\n",
    "            cell_fw=cell_fw,\n",
    "            cell_bw=cell_bw,\n",
    "            inputs=inputs,\n",
    "            sequence_length=self.inputs_length,\n",
    "            dtype=tf.float32,\n",
    "            scope='bidirectional_cells')\n",
    "        outputs = tf.concat([fw_outputs, bw_outputs], axis=-1)\n",
    "        final_state = []\n",
    "        for i in range(num_layers):\n",
    "            final_state.append(tf.concat([fw_state[i], bw_state[i]], axis=-1))\n",
    "        final_state = tuple(final_state)\n",
    "        return outputs, final_state\n",
    "    \n",
    "    def _gru(self, num_layers: int, num_units: int, dropout_in_rate: float, dropout_out_rate: float, name: str):\n",
    "        cells = []\n",
    "        for l in range(num_layers):\n",
    "            cell = tf.nn.rnn_cell.GRUCell(num_units, tf.nn.relu, kernel_initializer=tf.contrib.layers.xavier_initializer(), name=name + '_{}'.format(l))\n",
    "            if l == 0:\n",
    "                cell = tf.nn.rnn_cell.DropoutWrapper(cell, input_keep_prob=1-dropout_in_rate)\n",
    "            if l == num_layers-1:\n",
    "                cell = tf.nn.rnn_cell.DropoutWrapper(cell, output_keep_prob=1-dropout_out_rate)\n",
    "            cells.append(cell)\n",
    "        return tf.nn.rnn_cell.MultiRNNCell(cells)\n",
    "    \n",
    "    def _prepare_encoder_attention(self, encoder_outputs: Tensor, inputs_length: Tensor) -> Tensor:\n",
    "        return tf.contrib.seq2seq.LuongAttention(\n",
    "            self.config.num_units*2, encoder_outputs, memory_sequence_length=inputs_length\n",
    "        )\n",
    "\n",
    "    def _prepare_decoder_attention(self, attention: Tensor, cells: Tensor, attention_size: int) -> Tensor:\n",
    "        return tf.contrib.seq2seq.AttentionWrapper(\n",
    "            cells, attention, attention_layer_size=attention_size\n",
    "        )\n",
    "    \n",
    "    def _label_smoothing(self, inputs, epsilon: float=0.1):\n",
    "        feature_dim = inputs.get_shape().as_list()[-1]\n",
    "        return (1-epsilon) * inputs + (epsilon / feature_dim)"
   ]
  },
  {
   "cell_type": "code",
   "execution_count": 9,
   "metadata": {
    "ExecuteTime": {
     "end_time": "2018-09-17T16:08:36.797249Z",
     "start_time": "2018-09-17T16:08:36.670890Z"
    }
   },
   "outputs": [],
   "source": [
    "num_epochs = 100"
   ]
  },
  {
   "cell_type": "code",
   "execution_count": null,
   "metadata": {
    "ExecuteTime": {
     "start_time": "2018-09-17T16:08:35.300Z"
    },
    "scrolled": true
   },
   "outputs": [
    {
     "name": "stdout",
     "output_type": "stream",
     "text": [
      "WARNING:tensorflow:From /home/kentaro.nakanishi/.pyenv/versions/3.6.5/lib/python3.6/site-packages/tensorflow/python/ops/rnn.py:417: calling reverse_sequence (from tensorflow.python.ops.array_ops) with seq_dim is deprecated and will be removed in a future version.\n",
      "Instructions for updating:\n",
      "seq_dim is deprecated, use seq_axis instead\n",
      "WARNING:tensorflow:From /home/kentaro.nakanishi/.pyenv/versions/3.6.5/lib/python3.6/site-packages/tensorflow/python/util/deprecation.py:432: calling reverse_sequence (from tensorflow.python.ops.array_ops) with batch_dim is deprecated and will be removed in a future version.\n",
      "Instructions for updating:\n",
      "batch_dim is deprecated, use batch_axis instead\n"
     ]
    },
    {
     "name": "stderr",
     "output_type": "stream",
     "text": [
      "/home/kentaro.nakanishi/.pyenv/versions/3.6.5/lib/python3.6/site-packages/tensorflow/python/ops/gradients_impl.py:100: UserWarning: Converting sparse IndexedSlices to a dense Tensor of unknown shape. This may consume a large amount of memory.\n",
      "  \"Converting sparse IndexedSlices to a dense Tensor of unknown shape. \"\n"
     ]
    },
    {
     "name": "stdout",
     "output_type": "stream",
     "text": [
      "epoch 0/100 finished.\n",
      "epoch 1/100 finished.\n",
      "epoch 2/100 finished.\n",
      "epoch 3/100 finished.\n",
      "epoch 4/100 finished.\n",
      "epoch 5/100 finished.\n",
      "epoch 6/100 finished.\n",
      "epoch 7/100 finished.\n",
      "epoch 8/100 finished.\n",
      "epoch 9/100 finished.\n",
      "epoch 10/100 finished.\n",
      "epoch 11/100 finished.\n",
      "epoch 12/100 finished.\n",
      "epoch 13/100 finished.\n",
      "epoch 14/100 finished.\n",
      "epoch 15/100 finished.\n",
      "epoch 16/100 finished.\n",
      "epoch 17/100 finished.\n",
      "epoch 18/100 finished.\n",
      "epoch 19/100 finished.\n",
      "epoch 20/100 finished.\n",
      "epoch 21/100 finished.\n",
      "epoch 22/100 finished.\n",
      "epoch 23/100 finished.\n",
      "epoch 24/100 finished.\n",
      "epoch 25/100 finished.\n",
      "epoch 26/100 finished.\n",
      "epoch 27/100 finished.\n",
      "epoch 28/100 finished.\n",
      "epoch 29/100 finished.\n",
      "epoch 30/100 finished.\n",
      "epoch 31/100 finished.\n",
      "epoch 32/100 finished.\n",
      "epoch 33/100 finished.\n",
      "epoch 34/100 finished.\n",
      "epoch 35/100 finished.\n",
      "epoch 36/100 finished.\n",
      "epoch 37/100 finished.\n",
      "epoch 38/100 finished.\n",
      "epoch 39/100 finished.\n",
      "epoch 40/100 finished.\n",
      "epoch 41/100 finished.\n",
      "epoch 42/100 finished.\n",
      "epoch 43/100 finished.\n",
      "epoch 44/100 finished.\n",
      "epoch 45/100 finished.\n",
      "epoch 46/100 finished.\n",
      "epoch 47/100 finished.\n",
      "epoch 48/100 finished.\n",
      "epoch 49/100 finished.\n",
      "epoch 50/100 finished.\n",
      "epoch 51/100 finished.\n",
      "epoch 52/100 finished.\n",
      "epoch 53/100 finished.\n",
      "epoch 54/100 finished.\n",
      "epoch 55/100 finished.\n",
      "epoch 56/100 finished.\n",
      "epoch 57/100 finished.\n",
      "epoch 58/100 finished.\n",
      "epoch 59/100 finished.\n",
      "epoch 60/100 finished.\n",
      "epoch 61/100 finished.\n",
      "epoch 62/100 finished.\n",
      "epoch 63/100 finished.\n",
      "epoch 64/100 finished.\n"
     ]
    }
   ],
   "source": [
    "for config in configs:\n",
    "    with tf.Graph().as_default():\n",
    "        ds = DocomoDataSource(config)\n",
    "        rnn = RNN(config, ds.vocab_size)\n",
    "        train_loss = rnn.loss\n",
    "\n",
    "        #decoder_batch_size, decoder_max_time = tf.unstack(tf.shape(rnn.decoder_targets))\n",
    "        #target_weights = tf.sequence_mask(rnn.decoder_targets_length, decoder_max_time, dtype=tf.float32)\n",
    "        #target_weights = target_weights / tf.reduce_sum(target_weights, 0)\n",
    "        #train_loss = (tf.reduce_sum(crossent * target_weights) / tf.cast(decoder_batch_size, dtype=tf.float32))\n",
    "        # Gradient and Optimization\n",
    "        global_step = tf.train.get_or_create_global_step()\n",
    "        params = tf.trainable_variables()\n",
    "        gradients = tf.gradients(train_loss, params)\n",
    "        clipped_gradients, _ = tf.clip_by_global_norm(gradients, 5.0)\n",
    "        optimizer = tf.train.AdamOptimizer(rnn.config.learning_rate)\n",
    "        train_op = optimizer.apply_gradients(zip(clipped_gradients, params), global_step=global_step)\n",
    "\n",
    "\n",
    "        with tf.name_scope('summary'):\n",
    "            loss_smr = tf.summary.scalar('loss', train_loss)\n",
    "            acc_smr = tf.summary.scalar('acc', rnn.accuracy)\n",
    "            merged_summary = tf.summary.merge_all()\n",
    "\n",
    "        with tf.Session() as sess:\n",
    "            writer = tf.summary.FileWriter(rnn.config.to_log_dir() , sess.graph)\n",
    "            sess.run(tf.global_variables_initializer())\n",
    "            for epoch in range(num_epochs):\n",
    "                ds.shuffle()\n",
    "                batch_list = ds.feed_dict(rnn, rnn.config.batch_size)\n",
    "                for fd in batch_list:\n",
    "                    _, step, loss, acc, smr = sess.run([train_op, global_step, train_loss, rnn.accuracy, merged_summary], feed_dict=fd)\n",
    "                    #step = sess.run(global_step)\n",
    "                    writer.add_summary(smr, step)\n",
    "                    #if step % 100 == 0:\n",
    "                    #print('step: {}, loss: {:.3f}, acc: {:.3f}'.format(step, loss, acc))\n",
    "                print('epoch {}/{} finished.'.format(epoch, num_epochs))"
   ]
  },
  {
   "cell_type": "code",
   "execution_count": null,
   "metadata": {},
   "outputs": [],
   "source": []
  },
  {
   "cell_type": "code",
   "execution_count": null,
   "metadata": {},
   "outputs": [],
   "source": []
  }
 ],
 "metadata": {
  "kernelspec": {
   "display_name": "Python 3",
   "language": "python",
   "name": "python3"
  },
  "language_info": {
   "codemirror_mode": {
    "name": "ipython",
    "version": 3
   },
   "file_extension": ".py",
   "mimetype": "text/x-python",
   "name": "python",
   "nbconvert_exporter": "python",
   "pygments_lexer": "ipython3",
   "version": "3.6.5"
  }
 },
 "nbformat": 4,
 "nbformat_minor": 2
}
