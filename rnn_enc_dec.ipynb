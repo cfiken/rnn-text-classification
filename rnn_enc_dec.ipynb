{
 "cells": [
  {
   "cell_type": "code",
   "execution_count": null,
   "metadata": {
    "ExecuteTime": {
     "end_time": "2018-09-23T08:44:40.251002Z",
     "start_time": "2018-09-23T08:44:40.238872Z"
    }
   },
   "outputs": [],
   "source": [
    "import sys\n",
    "import os\n",
    "import time\n",
    "import random\n",
    "import re\n",
    "import json\n",
    "import pickle\n",
    "from typing import List, Tuple, Dict, Callable, Optional, Any, Sequence, Mapping, NamedTuple"
   ]
  },
  {
   "cell_type": "code",
   "execution_count": null,
   "metadata": {
    "ExecuteTime": {
     "end_time": "2018-09-23T08:44:41.068872Z",
     "start_time": "2018-09-23T08:44:40.256777Z"
    }
   },
   "outputs": [],
   "source": [
    "import tensorflow as tf\n",
    "from tensorflow import Tensor\n",
    "import numpy as np\n",
    "import matplotlib as plt"
   ]
  },
  {
   "cell_type": "code",
   "execution_count": null,
   "metadata": {
    "ExecuteTime": {
     "end_time": "2018-09-23T08:44:41.073049Z",
     "start_time": "2018-09-23T08:44:41.070048Z"
    }
   },
   "outputs": [],
   "source": [
    "from utils.config import Config\n",
    "from dataloader.docomo_datasource import DocomoDataSource"
   ]
  },
  {
   "cell_type": "code",
   "execution_count": null,
   "metadata": {
    "ExecuteTime": {
     "end_time": "2018-09-23T08:44:41.140662Z",
     "start_time": "2018-09-23T08:44:41.074008Z"
    }
   },
   "outputs": [],
   "source": [
    "units = [512]\n",
    "layers = [4]\n",
    "lrs = [0.001]\n",
    "configs = []\n",
    "for l in layers:\n",
    "    for u in units:\n",
    "        for lr in lrs:\n",
    "            configs.append(Config(num_layers=l, num_units=u, learning_rate=lr, log_dir='./logs/rnn2/'))"
   ]
  },
  {
   "cell_type": "code",
   "execution_count": null,
   "metadata": {
    "ExecuteTime": {
     "end_time": "2018-09-23T08:44:41.518125Z",
     "start_time": "2018-09-23T08:44:41.141702Z"
    }
   },
   "outputs": [],
   "source": [
    "ds = DocomoDataSource(configs[0])\n",
    "len(ds._ask)"
   ]
  },
  {
   "cell_type": "code",
   "execution_count": null,
   "metadata": {
    "ExecuteTime": {
     "end_time": "2018-09-23T08:44:41.545746Z",
     "start_time": "2018-09-23T08:44:41.519361Z"
    }
   },
   "outputs": [],
   "source": [
    "class RNN:\n",
    "    \n",
    "    def __init__(self, config: Config, vocab_size):\n",
    "        self.config = config\n",
    "        self.vocab_size = vocab_size\n",
    "        self._create_placeholder()\n",
    "        self._create_model()\n",
    "        self.loss = self._create_loss()\n",
    "        self.accuracy = self._create_acc()\n",
    "    \n",
    "    def _create_placeholder(self):\n",
    "        self.is_training = tf.placeholder(shape=(), dtype=tf.bool, name='is_training')\n",
    "        self.inputs = tf.placeholder(shape=[None, self.config.max_length], dtype=tf.int32, name='inputs')\n",
    "        self.inputs_length = tf.placeholder(shape=[None], dtype=tf.int32, name='inputs_length')\n",
    "        self.encoder_targets = tf.placeholder(shape=[None, self.config.max_length], dtype=tf.int32, name='encoder_targets')\n",
    "        self.encoder_targets_length = tf.placeholder(shape=[None], dtype=tf.int32, name='encoder_targets_length')\n",
    "        self.decoder_targets = tf.placeholder(shape=[None, self.config.max_length], dtype=tf.int32, name='decoder_targets')\n",
    "        self.decoder_targets_length = tf.placeholder(shape=[None], dtype=tf.int32, name='decoder_targets_length')\n",
    "    \n",
    "    def _create_model(self):\n",
    "        self.global_step = tf.train.get_or_create_global_step()\n",
    "        embedded_inputs = self._embedding(self.inputs)\n",
    "        encoder_outputs, encoder_state = self._encode(embedded_inputs)\n",
    "        #attention_mechanism = self._prepare_encoder_attention(encoder_outputs, self.inputs_length)\n",
    "        attention_mechanism = None\n",
    "        self.outputs_logits = self._train_decoder(encoder_state, self.encoder_targets, self.encoder_targets_length, attention_mechanism)\n",
    "        self.predicted_id = tf.to_int32(tf.argmax(self.outputs_logits, axis=-1))\n",
    "        \n",
    "    def _create_loss(self):\n",
    "        target_ids_one_hot = tf.one_hot(self.decoder_targets, self.vocab_size)\n",
    "        target_ids_smoothed = self._label_smoothing(target_ids_one_hot)\n",
    "        cross_ent = tf.nn.softmax_cross_entropy_with_logits_v2(logits=self.outputs_logits, labels=target_ids_smoothed)\n",
    "        return tf.reduce_mean(cross_ent)\n",
    "        \n",
    "    def _create_acc(self):\n",
    "        return tf.reduce_mean(tf.to_float(tf.equal(self.decoder_targets, self.predicted_id)))\n",
    "    \n",
    "    def _create_perplexity(self):\n",
    "        probs = tf.nn.softmax(self.outputs_logits)\n",
    "        target_probs = np.zeros(self.decoder_targets.shape[0])\n",
    "        for (i, target) in enumerate(self.decoder_targets):\n",
    "            target_probs[i] = probs[i, target]\n",
    "        return 1.0/target_probs\n",
    "    \n",
    "    def _embedding(self, inputs):\n",
    "        self.lookup_table = tf.get_variable('lookup_table', shape=[self.vocab_size, self.config.embedding_size], dtype=tf.float32)\n",
    "        embedded_inputs = tf.nn.embedding_lookup(self.lookup_table, inputs)\n",
    "        return embedded_inputs\n",
    "    \n",
    "    def _encode(self, embedded_inputs):\n",
    "        outputs, final_state = self._bidirectional_cell(\n",
    "            embedded_inputs,\n",
    "            self.config.num_layers,\n",
    "            self.config.num_units,\n",
    "            self.config.dropout_in_rate,\n",
    "            self.config.dropout_out_rate\n",
    "        )\n",
    "        return outputs, final_state\n",
    "    \n",
    "    def _train_decoder(self, encoder_state: Tuple[Tensor, Tensor],\n",
    "                      inputs_data: Tensor,\n",
    "                      inputs_length: Tensor,\n",
    "                      attention_mechanism: Tensor) -> Tensor:\n",
    "        '''\n",
    "        :params encoder_state: thought vector from encoder\n",
    "        :params [batch_size, num_text_id] inputs_data:\n",
    "        :params [batch_size] inputs_length:\n",
    "        :return: (10, ?, 3023)\n",
    "        '''\n",
    "        multi_cells = self._gru(self.config.num_layers, self.config.num_units * 2, self.config.dropout_in_rate, self.config.dropout_out_rate, 'decoder_cell')\n",
    "        #attention_cells = self._prepare_decoder_attention(attention_mechanism, multi_cells, attention_size=self.config.num_units*2)\n",
    "        output_layer = tf.layers.Dense(self.vocab_size, use_bias=False, name=\"output_layer\")\n",
    "\n",
    "        decoder_inputs = tf.nn.embedding_lookup(self.lookup_table, inputs_data)\n",
    "        this_batch_size, _ = tf.unstack(tf.shape(inputs_data))\n",
    "        #decoder_initial_state = attention_cells.zero_state(batch_size=this_batch_size, dtype=tf.float32)\n",
    "        #decoder_initial_state = decoder_initial_state.clone(cell_state=encoder_state)\n",
    "        decoder_initial_state = encoder_state\n",
    "\n",
    "        helper = tf.contrib.seq2seq.ScheduledEmbeddingTrainingHelper(\n",
    "            inputs=decoder_inputs,\n",
    "            sequence_length=tf.cast(inputs_length, dtype=tf.int32),\n",
    "            embedding=self.lookup_table,\n",
    "            sampling_probability=self.config.scheduled_sampling_rate\n",
    "        )\n",
    "\n",
    "        decoder = tf.contrib.seq2seq.BasicDecoder(\n",
    "            multi_cells, helper, decoder_initial_state,\n",
    "            output_layer=output_layer\n",
    "        )\n",
    "        outputs, _, _ = tf.contrib.seq2seq.dynamic_decode(decoder, swap_memory=True, scope='decoder')\n",
    "        return outputs.rnn_output\n",
    "    \n",
    "    def _bidirectional_cell(self, inputs, num_layers, num_units, dropout_in_rate, dropout_out_rate):\n",
    "        cell_fw = self._gru(num_layers, num_units, dropout_in_rate, dropout_out_rate, name='cell_fw')\n",
    "        cell_bw = self._gru(num_layers, num_units, dropout_in_rate, dropout_out_rate, name='cell_bw')\n",
    "        (fw_outputs, bw_outputs), (fw_state, bw_state) = tf.nn.bidirectional_dynamic_rnn(\n",
    "            cell_fw=cell_fw,\n",
    "            cell_bw=cell_bw,\n",
    "            inputs=inputs,\n",
    "            sequence_length=self.inputs_length,\n",
    "            dtype=tf.float32,\n",
    "            scope='bidirectional_cells')\n",
    "        outputs = tf.concat([fw_outputs, bw_outputs], axis=-1)\n",
    "        final_state = []\n",
    "        for i in range(num_layers):\n",
    "            final_state.append(tf.concat([fw_state[i], bw_state[i]], axis=-1))\n",
    "        final_state = tuple(final_state)\n",
    "        return outputs, final_state\n",
    "    \n",
    "    def _gru(self, num_layers: int, num_units: int, dropout_in_rate: float, dropout_out_rate: float, name: str):\n",
    "        cells = []\n",
    "        for l in range(num_layers):\n",
    "            cell = tf.nn.rnn_cell.GRUCell(num_units, tf.nn.relu, kernel_initializer=tf.contrib.layers.xavier_initializer(), name=name + '_{}'.format(l))\n",
    "            if l == 0:\n",
    "                cell = tf.nn.rnn_cell.DropoutWrapper(cell, input_keep_prob=1-dropout_in_rate)\n",
    "            if l == num_layers-1:\n",
    "                cell = tf.nn.rnn_cell.DropoutWrapper(cell, output_keep_prob=1-dropout_out_rate)\n",
    "            cells.append(cell)\n",
    "        return tf.nn.rnn_cell.MultiRNNCell(cells)\n",
    "    \n",
    "    def _prepare_encoder_attention(self, encoder_outputs: Tensor, inputs_length: Tensor) -> Tensor:\n",
    "        return tf.contrib.seq2seq.LuongAttention(\n",
    "            self.config.num_units*2, encoder_outputs, memory_sequence_length=inputs_length\n",
    "        )\n",
    "\n",
    "    def _prepare_decoder_attention(self, attention: Tensor, cells: Tensor, attention_size: int) -> Tensor:\n",
    "        return tf.contrib.seq2seq.AttentionWrapper(\n",
    "            cells, attention, attention_layer_size=attention_size\n",
    "        )\n",
    "    \n",
    "    def _label_smoothing(self, inputs, epsilon: float=0.1):\n",
    "        feature_dim = inputs.get_shape().as_list()[-1]\n",
    "        return (1-epsilon) * inputs + (epsilon / feature_dim)"
   ]
  },
  {
   "cell_type": "code",
   "execution_count": null,
   "metadata": {
    "ExecuteTime": {
     "end_time": "2018-09-23T08:44:41.644141Z",
     "start_time": "2018-09-23T08:44:41.546960Z"
    }
   },
   "outputs": [],
   "source": [
    "num_epochs = 50"
   ]
  },
  {
   "cell_type": "code",
   "execution_count": null,
   "metadata": {
    "ExecuteTime": {
     "end_time": "2018-09-24T06:45:30.000160Z",
     "start_time": "2018-09-23T08:44:41.646016Z"
    },
    "scrolled": true
   },
   "outputs": [],
   "source": [
    "for config in configs:\n",
    "    with tf.Graph().as_default():\n",
    "        with tf.device('/gpu:0'):\n",
    "            ds = DocomoDataSource(config)\n",
    "            rnn = RNN(config, ds.vocab_size)\n",
    "            train_loss = rnn.loss\n",
    "\n",
    "            #decoder_batch_size, decoder_max_time = tf.unstack(tf.shape(rnn.decoder_targets))\n",
    "            #target_weights = tf.sequence_mask(rnn.decoder_targets_length, decoder_max_time, dtype=tf.float32)\n",
    "            #target_weights = target_weights / tf.reduce_sum(target_weights, 0)\n",
    "            #train_loss = (tf.reduce_sum(crossent * target_weights) / tf.cast(decoder_batch_size, dtype=tf.float32))\n",
    "            # Gradient and Optimization\n",
    "            global_step = tf.train.get_or_create_global_step()\n",
    "            params = tf.trainable_variables()\n",
    "            gradients = tf.gradients(train_loss, params)\n",
    "            clipped_gradients, _ = tf.clip_by_global_norm(gradients, 5.0)\n",
    "            optimizer = tf.train.AdamOptimizer(rnn.config.learning_rate)\n",
    "            train_op = optimizer.apply_gradients(zip(clipped_gradients, params), global_step=global_step)\n",
    "\n",
    "\n",
    "            with tf.name_scope('summary'):\n",
    "                loss_smr = tf.summary.scalar('loss', train_loss)\n",
    "                acc_smr = tf.summary.scalar('acc', rnn.accuracy)\n",
    "                merged_summary = tf.summary.merge_all()\n",
    "            tf_config = tf.ConfigProto(\n",
    "                allow_soft_placement=True,\n",
    "                gpu_options=tf.GPUOptions(\n",
    "                    allow_growth=True\n",
    "                )\n",
    "            )\n",
    "            with tf.Session(config=tf_config) as sess:\n",
    "                writer = tf.summary.FileWriter(rnn.config.to_log_dir() , sess.graph)\n",
    "                sess.run(tf.global_variables_initializer())\n",
    "                for epoch in range(num_epochs):\n",
    "                    ds.shuffle()\n",
    "                    batch_list = ds.feed_dict(rnn, rnn.config.batch_size)\n",
    "                    for fd in batch_list:\n",
    "                        _, step, loss, acc, smr = sess.run([train_op, global_step, train_loss, rnn.accuracy, merged_summary], feed_dict=fd)\n",
    "                        writer.add_summary(smr, step)\n",
    "                        #if step % 100 == 0:\n",
    "                        #print('step: {}, loss: {:.3f}, acc: {:.3f}'.format(step, loss, acc))\n",
    "                    print('epoch {}/{} finished.'.format(epoch, num_epochs))"
   ]
  },
  {
   "cell_type": "code",
   "execution_count": null,
   "metadata": {
    "ExecuteTime": {
     "start_time": "2018-09-18T15:14:29.244Z"
    }
   },
   "outputs": [],
   "source": []
  }
 ],
 "metadata": {
  "kernelspec": {
   "display_name": "Python 3",
   "language": "python",
   "name": "python3"
  },
  "language_info": {
   "codemirror_mode": {
    "name": "ipython",
    "version": 3
   },
   "file_extension": ".py",
   "mimetype": "text/x-python",
   "name": "python",
   "nbconvert_exporter": "python",
   "pygments_lexer": "ipython3",
   "version": "3.6.5"
  }
 },
 "nbformat": 4,
 "nbformat_minor": 2
}
