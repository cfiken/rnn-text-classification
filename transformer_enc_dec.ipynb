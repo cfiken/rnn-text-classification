{
 "cells": [
  {
   "cell_type": "code",
   "execution_count": 1,
   "metadata": {
    "ExecuteTime": {
     "end_time": "2018-09-24T05:40:15.594557Z",
     "start_time": "2018-09-24T05:40:14.745579Z"
    }
   },
   "outputs": [
    {
     "name": "stderr",
     "output_type": "stream",
     "text": [
      "/home/kentaro.nakanishi/.pyenv/versions/3.6.5/lib/python3.6/importlib/_bootstrap.py:219: RuntimeWarning: numpy.dtype size changed, may indicate binary incompatibility. Expected 96, got 88\n",
      "  return f(*args, **kwds)\n",
      "/home/kentaro.nakanishi/.pyenv/versions/3.6.5/lib/python3.6/importlib/_bootstrap.py:219: RuntimeWarning: numpy.dtype size changed, may indicate binary incompatibility. Expected 96, got 88\n",
      "  return f(*args, **kwds)\n"
     ]
    }
   ],
   "source": [
    "from utils.config import Config\n",
    "from dataloader.docomo_datasource import DocomoDataSource\n",
    "from models.transformer import Transformer"
   ]
  },
  {
   "cell_type": "code",
   "execution_count": 2,
   "metadata": {
    "ExecuteTime": {
     "end_time": "2018-09-24T05:40:15.597208Z",
     "start_time": "2018-09-24T05:40:15.595628Z"
    }
   },
   "outputs": [],
   "source": [
    "import tensorflow as tf\n",
    "import numpy as np\n",
    "import matplotlib as plt"
   ]
  },
  {
   "cell_type": "code",
   "execution_count": 3,
   "metadata": {
    "ExecuteTime": {
     "end_time": "2018-09-24T05:40:15.694778Z",
     "start_time": "2018-09-24T05:40:15.598568Z"
    }
   },
   "outputs": [],
   "source": [
    "#config = Config()\n",
    "#ds = DocomoDataSource(config)\n",
    "#ds.vocab_size"
   ]
  },
  {
   "cell_type": "code",
   "execution_count": 4,
   "metadata": {
    "ExecuteTime": {
     "end_time": "2018-09-24T05:40:15.813453Z",
     "start_time": "2018-09-24T05:40:15.695989Z"
    }
   },
   "outputs": [],
   "source": [
    "units = [512]\n",
    "layers = [4]\n",
    "lrs = [0.001]\n",
    "configs = []\n",
    "for l in layers:\n",
    "    for u in units:\n",
    "        for lr in lrs:\n",
    "            configs.append(Config(num_layers=l, num_units=u, learning_rate=lr, log_dir='./logs/transformer2/'))"
   ]
  },
  {
   "cell_type": "code",
   "execution_count": 5,
   "metadata": {
    "ExecuteTime": {
     "end_time": "2018-09-24T05:40:15.870144Z",
     "start_time": "2018-09-24T05:40:15.814585Z"
    }
   },
   "outputs": [],
   "source": [
    "num_epochs = 200"
   ]
  },
  {
   "cell_type": "code",
   "execution_count": 6,
   "metadata": {
    "ExecuteTime": {
     "end_time": "2018-09-24T05:40:15.939326Z",
     "start_time": "2018-09-24T05:40:15.871502Z"
    }
   },
   "outputs": [],
   "source": [
    "def run(configs, gpu_index, num_epochs=100):\n",
    "    for config in configs:\n",
    "        with tf.Graph().as_default():\n",
    "            with tf.device('/gpu:{}'.format(gpu_index)):\n",
    "                ds = DocomoDataSource(config)\n",
    "                model = Transformer(config, 'transformer')\n",
    "\n",
    "                global_step = tf.train.get_or_create_global_step()\n",
    "                optimizer = tf.train.AdamOptimizer(config.learning_rate)\n",
    "                train_op = optimizer.minimize(model.loss, global_step=global_step)\n",
    "\n",
    "\n",
    "                with tf.name_scope('summary'):\n",
    "                    loss_smr = tf.summary.scalar('loss', model.loss)\n",
    "                    acc_smr = tf.summary.scalar('acc', model.accuracy)\n",
    "                    merged_summary = tf.summary.merge_all()\n",
    "\n",
    "                tf_config = tf.ConfigProto(\n",
    "                    allow_soft_placement=True,\n",
    "                    gpu_options=tf.GPUOptions(\n",
    "                        allow_growth=True\n",
    "                    )\n",
    "                )\n",
    "                with tf.Session(config=tf_config) as sess:\n",
    "                    writer = tf.summary.FileWriter(model.config.to_log_dir() , sess.graph)\n",
    "                    sess.run(tf.global_variables_initializer())\n",
    "                    for epoch in range(num_epochs):\n",
    "                        ds.shuffle()\n",
    "                        batch_list = ds.feed_dict(model, model.config.batch_size, is_transformer=True)\n",
    "                        for fd in batch_list:\n",
    "                            fd[model.is_training] = True\n",
    "                            _, step, loss, acc, smr = sess.run([train_op, global_step, model.loss, model.accuracy, merged_summary], feed_dict=fd)\n",
    "                            #step = sess.run(global_step)\n",
    "                            writer.add_summary(smr, step)\n",
    "                            #if step % 100 == 0:\n",
    "                            #print('step: {}, loss: {:.3f}, acc: {:.3f}'.format(step, loss, acc))\n",
    "                        print('epoch {}/{} finished.'.format(epoch+1, num_epochs))"
   ]
  },
  {
   "cell_type": "code",
   "execution_count": 7,
   "metadata": {
    "ExecuteTime": {
     "end_time": "2018-09-26T07:30:35.188909Z",
     "start_time": "2018-09-24T05:40:15.943268Z"
    },
    "scrolled": true
   },
   "outputs": [
    {
     "name": "stdout",
     "output_type": "stream",
     "text": [
      "epoch 1/200 finished.\n",
      "epoch 2/200 finished.\n",
      "epoch 3/200 finished.\n",
      "epoch 4/200 finished.\n",
      "epoch 5/200 finished.\n",
      "epoch 6/200 finished.\n",
      "epoch 7/200 finished.\n",
      "epoch 8/200 finished.\n",
      "epoch 9/200 finished.\n",
      "epoch 10/200 finished.\n",
      "epoch 11/200 finished.\n",
      "epoch 12/200 finished.\n",
      "epoch 13/200 finished.\n",
      "epoch 14/200 finished.\n",
      "epoch 15/200 finished.\n",
      "epoch 16/200 finished.\n",
      "epoch 17/200 finished.\n",
      "epoch 18/200 finished.\n",
      "epoch 19/200 finished.\n",
      "epoch 20/200 finished.\n",
      "epoch 21/200 finished.\n",
      "epoch 22/200 finished.\n",
      "epoch 23/200 finished.\n",
      "epoch 24/200 finished.\n",
      "epoch 25/200 finished.\n",
      "epoch 26/200 finished.\n",
      "epoch 27/200 finished.\n",
      "epoch 28/200 finished.\n",
      "epoch 29/200 finished.\n",
      "epoch 30/200 finished.\n",
      "epoch 31/200 finished.\n",
      "epoch 32/200 finished.\n",
      "epoch 33/200 finished.\n",
      "epoch 34/200 finished.\n",
      "epoch 35/200 finished.\n",
      "epoch 36/200 finished.\n",
      "epoch 37/200 finished.\n",
      "epoch 38/200 finished.\n",
      "epoch 39/200 finished.\n",
      "epoch 40/200 finished.\n",
      "epoch 41/200 finished.\n",
      "epoch 42/200 finished.\n",
      "epoch 43/200 finished.\n",
      "epoch 44/200 finished.\n",
      "epoch 137/200 finished.\n",
      "epoch 138/200 finished.\n",
      "epoch 139/200 finished.\n",
      "epoch 140/200 finished.\n",
      "epoch 141/200 finished.\n",
      "epoch 142/200 finished.\n",
      "epoch 143/200 finished.\n",
      "epoch 144/200 finished.\n",
      "epoch 145/200 finished.\n",
      "epoch 146/200 finished.\n",
      "epoch 147/200 finished.\n",
      "epoch 148/200 finished.\n",
      "epoch 149/200 finished.\n",
      "epoch 150/200 finished.\n",
      "epoch 151/200 finished.\n",
      "epoch 152/200 finished.\n",
      "epoch 153/200 finished.\n",
      "epoch 154/200 finished.\n",
      "epoch 155/200 finished.\n",
      "epoch 156/200 finished.\n",
      "epoch 157/200 finished.\n",
      "epoch 158/200 finished.\n",
      "epoch 159/200 finished.\n",
      "epoch 160/200 finished.\n",
      "epoch 161/200 finished.\n",
      "epoch 162/200 finished.\n",
      "epoch 163/200 finished.\n",
      "epoch 164/200 finished.\n",
      "epoch 165/200 finished.\n",
      "epoch 166/200 finished.\n",
      "epoch 167/200 finished.\n",
      "epoch 168/200 finished.\n",
      "epoch 169/200 finished.\n",
      "epoch 170/200 finished.\n",
      "epoch 171/200 finished.\n",
      "epoch 172/200 finished.\n",
      "epoch 173/200 finished.\n",
      "epoch 174/200 finished.\n",
      "epoch 175/200 finished.\n",
      "epoch 176/200 finished.\n",
      "epoch 177/200 finished.\n",
      "epoch 178/200 finished.\n",
      "epoch 179/200 finished.\n",
      "epoch 180/200 finished.\n",
      "epoch 181/200 finished.\n",
      "epoch 182/200 finished.\n",
      "epoch 183/200 finished.\n",
      "epoch 184/200 finished.\n",
      "epoch 185/200 finished.\n",
      "epoch 186/200 finished.\n",
      "epoch 187/200 finished.\n",
      "epoch 188/200 finished.\n",
      "epoch 189/200 finished.\n",
      "epoch 190/200 finished.\n",
      "epoch 191/200 finished.\n",
      "epoch 192/200 finished.\n",
      "epoch 193/200 finished.\n",
      "epoch 194/200 finished.\n",
      "epoch 195/200 finished.\n",
      "epoch 196/200 finished.\n",
      "epoch 197/200 finished.\n",
      "epoch 198/200 finished.\n",
      "epoch 199/200 finished.\n",
      "epoch 200/200 finished.\n"
     ]
    }
   ],
   "source": [
    "run(configs, 1, num_epochs)"
   ]
  },
  {
   "cell_type": "code",
   "execution_count": null,
   "metadata": {
    "ExecuteTime": {
     "start_time": "2018-09-24T05:40:14.750Z"
    }
   },
   "outputs": [],
   "source": [
    "#import threading"
   ]
  },
  {
   "cell_type": "code",
   "execution_count": null,
   "metadata": {
    "ExecuteTime": {
     "start_time": "2018-09-24T05:40:14.751Z"
    }
   },
   "outputs": [],
   "source": [
    "#thread1 = threading.Thread(target=run, args=(configs[::2], 0, 100))\n",
    "#thread2 = threading.Thread(target=run, args=(configs[1::2], 1, 100))\n",
    "#threads = [thread1, thread2]\n",
    "# for t in threads:\n",
    "#     t.setDaemon(True)\n",
    "#     t.start()"
   ]
  },
  {
   "cell_type": "code",
   "execution_count": null,
   "metadata": {
    "ExecuteTime": {
     "start_time": "2018-09-24T05:40:14.752Z"
    },
    "scrolled": true
   },
   "outputs": [],
   "source": [
    "# for t in threads:\n",
    "#     t.join()"
   ]
  },
  {
   "cell_type": "code",
   "execution_count": null,
   "metadata": {
    "ExecuteTime": {
     "end_time": "2018-09-21T10:49:45.185311Z",
     "start_time": "2018-09-21T10:48:36.373Z"
    }
   },
   "outputs": [],
   "source": []
  },
  {
   "cell_type": "code",
   "execution_count": null,
   "metadata": {},
   "outputs": [],
   "source": []
  }
 ],
 "metadata": {
  "kernelspec": {
   "display_name": "Python 3",
   "language": "python",
   "name": "python3"
  },
  "language_info": {
   "codemirror_mode": {
    "name": "ipython",
    "version": 3
   },
   "file_extension": ".py",
   "mimetype": "text/x-python",
   "name": "python",
   "nbconvert_exporter": "python",
   "pygments_lexer": "ipython3",
   "version": "3.6.5"
  }
 },
 "nbformat": 4,
 "nbformat_minor": 2
}
