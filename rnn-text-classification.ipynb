{
 "cells": [
  {
   "cell_type": "code",
   "execution_count": 1,
   "metadata": {
    "ExecuteTime": {
     "end_time": "2018-08-05T09:42:51.438146Z",
     "start_time": "2018-08-05T09:42:50.808783Z"
    }
   },
   "outputs": [],
   "source": [
    "import tensorflow as tf\n",
    "import numpy as np\n",
    "import matplotlib.pyplot as plt"
   ]
  },
  {
   "cell_type": "code",
   "execution_count": 2,
   "metadata": {
    "ExecuteTime": {
     "end_time": "2018-08-05T09:42:51.441375Z",
     "start_time": "2018-08-05T09:42:51.439302Z"
    }
   },
   "outputs": [],
   "source": [
    "import os\n",
    "from collections import Counter\n",
    "from typing import NamedTuple, List, Dict, Tuple\n",
    "import random\n",
    "from datetime import datetime\n",
    "import time\n",
    "import math"
   ]
  },
  {
   "cell_type": "code",
   "execution_count": 14,
   "metadata": {
    "ExecuteTime": {
     "end_time": "2018-08-07T12:02:16.449345Z",
     "start_time": "2018-08-07T12:02:16.446721Z"
    }
   },
   "outputs": [],
   "source": [
    "from utils.config import Config\n",
    "from data_loader.ptb_datasource import PTBDataSource"
   ]
  },
  {
   "cell_type": "markdown",
   "metadata": {},
   "source": [
    "# config, data"
   ]
  },
  {
   "cell_type": "code",
   "execution_count": 15,
   "metadata": {
    "ExecuteTime": {
     "end_time": "2018-08-07T12:02:20.483873Z",
     "start_time": "2018-08-07T12:02:20.477529Z"
    }
   },
   "outputs": [],
   "source": [
    "units = [512, 1024]\n",
    "layers = [4]\n",
    "lrs = [0.001]\n",
    "configs = []\n",
    "for l in layers:\n",
    "    for u in units:\n",
    "        for lr in lrs:\n",
    "            configs.append(Config(num_layers=l, num_units=u, learning_rate=lr))"
   ]
  },
  {
   "cell_type": "markdown",
   "metadata": {},
   "source": [
    "# model"
   ]
  },
  {
   "cell_type": "code",
   "execution_count": 9,
   "metadata": {
    "ExecuteTime": {
     "end_time": "2018-08-05T09:42:52.969799Z",
     "start_time": "2018-08-05T09:42:52.913259Z"
    }
   },
   "outputs": [],
   "source": [
    "class RNN:\n",
    "    \n",
    "    def __init__(self, config: Config, vocab_size):\n",
    "        self.config = config\n",
    "        self.vocab_size = vocab_size\n",
    "        self._create_placeholder()\n",
    "        self._create_model()\n",
    "        self.loss = self._create_loss()\n",
    "        self.accuracy = self._create_acc()\n",
    "    \n",
    "    def _create_placeholder(self):\n",
    "        self.is_training = tf.placeholder(shape=(), dtype=tf.bool, name='is_training')\n",
    "        self.inputs = tf.placeholder(shape=[None, self.config.max_length], dtype=tf.int32, name='inputs')\n",
    "        self.inputs_length = tf.placeholder(shape=[None], dtype=tf.int32, name='inputs_length')\n",
    "        self.target_ids = tf.placeholder(shape=[None], dtype=tf.int32, name='target_ids')\n",
    "    \n",
    "    def _create_model(self):\n",
    "        self.global_step = tf.train.get_or_create_global_step()\n",
    "        embedded_inputs = self._embedding(self.inputs)\n",
    "        _, encoder_state = self._encode(embedded_inputs)\n",
    "        # encoder_state = tf.layers.dense(encoder_state, num_units, activation=tf.nn.relu, name='hidden_layer')\n",
    "        self.outputs_logits = tf.layers.dense(encoder_state, self.vocab_size, name='outputs_layer')\n",
    "        self.predicted_id = tf.to_int32(tf.argmax(self.outputs_logits, axis=-1))\n",
    "        \n",
    "    def _create_loss(self):\n",
    "        is_target = tf.to_float(tf.not_equal(self.target_ids, 0))\n",
    "        target_ids_one_hot = tf.one_hot(self.target_ids, self.vocab_size)\n",
    "        target_ids_smoothed = self._label_smoothing(target_ids_one_hot)\n",
    "        cross_ent = tf.nn.softmax_cross_entropy_with_logits_v2(logits=self.outputs_logits, labels=target_ids_smoothed)\n",
    "        return tf.reduce_sum(cross_ent * is_target) / tf.reduce_sum(is_target)\n",
    "        \n",
    "    def _create_acc(self):\n",
    "        return tf.reduce_mean(tf.to_float(tf.equal(self.target_ids, self.predicted_id)))\n",
    "    \n",
    "    def _embedding(self, inputs):\n",
    "        lookup_table = tf.get_variable('lookup_table', shape=[self.vocab_size, self.config.embedding_size], dtype=tf.float32)\n",
    "        embedded_inputs = tf.nn.embedding_lookup(lookup_table, inputs)\n",
    "        return embedded_inputs\n",
    "    \n",
    "    def _encode(self, embedded_inputs):\n",
    "        outputs, final_state = self._bidirectional_cell(\n",
    "            embedded_inputs,\n",
    "            self.config.num_layers,\n",
    "            self.config.num_units,\n",
    "            self.config.dropout_in_rate,\n",
    "            self.config.dropout_out_rate\n",
    "        )\n",
    "        return outputs, final_state\n",
    "    \n",
    "    def _bidirectional_cell(self, inputs, num_layers, num_units, dropout_in_rate, dropout_out_rate):\n",
    "        cell_fw = self._gru(num_layers, num_units, dropout_in_rate, dropout_out_rate, name='cell_fw')\n",
    "        cell_bw = self._gru(num_layers, num_units, dropout_in_rate, dropout_out_rate, name='cell_bw')\n",
    "        (fw_outputs, bw_outputs), (fw_state, bw_state) = tf.nn.bidirectional_dynamic_rnn(\n",
    "            cell_fw=cell_fw,\n",
    "            cell_bw=cell_bw,\n",
    "            inputs=inputs,\n",
    "            sequence_length=self.inputs_length,\n",
    "            dtype=tf.float32,\n",
    "            scope='bidirectional_cells')\n",
    "        outputs = tf.concat([fw_outputs, bw_outputs], axis=-1)\n",
    "        final_state = tf.reduce_sum([fw_state, bw_state], axis=0)\n",
    "        final_state = tf.concat(tf.unstack(final_state, axis=0), axis=-1)\n",
    "        return outputs, final_state\n",
    "    \n",
    "    def _gru(self, num_layers: int, num_units: int, dropout_in_rate: float, dropout_out_rate: float, name: str):\n",
    "        cells = []\n",
    "        for l in range(num_layers):\n",
    "            cell = tf.nn.rnn_cell.GRUCell(num_units, tf.nn.relu, kernel_initializer=tf.contrib.layers.xavier_initializer(), name=name)\n",
    "            if l == 0:\n",
    "                cell = tf.nn.rnn_cell.DropoutWrapper(cell, input_keep_prob=1-dropout_in_rate)\n",
    "            if l == num_layers-1:\n",
    "                cell = tf.nn.rnn_cell.DropoutWrapper(cell, output_keep_prob=1-dropout_out_rate)\n",
    "            cells.append(cell)\n",
    "        return tf.nn.rnn_cell.MultiRNNCell(cells)\n",
    "    \n",
    "    def _label_smoothing(self, inputs, epsilon: float=0.1):\n",
    "        feature_dim = inputs.get_shape().as_list()[-1]\n",
    "        return (1-epsilon) * inputs + (epsilon / feature_dim)"
   ]
  },
  {
   "cell_type": "code",
   "execution_count": 10,
   "metadata": {
    "ExecuteTime": {
     "end_time": "2018-08-05T09:42:53.063887Z",
     "start_time": "2018-08-05T09:42:52.971533Z"
    }
   },
   "outputs": [],
   "source": [
    "num_epoch = 200"
   ]
  },
  {
   "cell_type": "code",
   "execution_count": 11,
   "metadata": {
    "ExecuteTime": {
     "end_time": "2018-08-05T09:42:53.166373Z",
     "start_time": "2018-08-05T09:42:53.069239Z"
    }
   },
   "outputs": [],
   "source": [
    "def start():\n",
    "    with tf.Graph().as_default():\n",
    "        now = datetime.now()\n",
    "        logdir = now.strftime(\"%Y%m%d-%H%M%S\") + \"/\"\n",
    "\n",
    "        datasource = PTBDataSource(config)\n",
    "\n",
    "        rnn = RNN(config, datasource.vocab_size)\n",
    "        optimizer = tf.train.AdamOptimizer(config.learning_rate)\n",
    "        train_vars = tf.trainable_variables()\n",
    "        gradients = tf.gradients(rnn.loss, train_vars)\n",
    "        clipped_gradients, _ = tf.clip_by_global_norm(gradients, config.grad_clip)\n",
    "        train_op = optimizer.apply_gradients(zip(clipped_gradients, train_vars), global_step=rnn.global_step)\n",
    "        with tf.name_scope('training'):\n",
    "            s_loss = tf.summary.scalar('loss', rnn.loss)\n",
    "            s_acc = tf.summary.scalar('accuracy', rnn.accuracy)\n",
    "        with tf.name_scope('test'):\n",
    "            test_s_acc = tf.summary.scalar('accuracy', rnn.accuracy)\n",
    "\n",
    "        with tf.Session() as sess:\n",
    "            saver = tf.train.Saver()\n",
    "            writer = tf.summary.FileWriter(config.to_log_dir() + '/' + logdir, sess.graph)\n",
    "            sess.run(tf.global_variables_initializer())\n",
    "            for i in range(num_epoch):\n",
    "                start = time.time()\n",
    "                datasource.shuffle()\n",
    "                batch_list = datasource.feed_dict_list(rnn)\n",
    "                losses = []\n",
    "                accuracies = []\n",
    "                for (j, fd) in enumerate(batch_list):\n",
    "                    loss, acc, _, smr_loss, smr_acc, step = sess.run([rnn.loss, rnn.accuracy, train_op, s_loss, s_acc, rnn.global_step], feed_dict=fd)\n",
    "                    losses.append(loss)\n",
    "                    accuracies.append(acc)\n",
    "                    writer.add_summary(smr_loss, step)\n",
    "                    writer.add_summary(smr_acc, step)\n",
    "                    if j % 100 == 0:\n",
    "                        #print('loss: {:.3f}, acc: {:.3f}'.format(loss, acc))\n",
    "                        inference(sess, rnn, datasource, writer, test_s_acc, step)\n",
    "                elapsed = time.time() - start\n",
    "                print('epoch {}/{} finished, {} step, elapsed {} sec. average loss: {:.3f}, average accuracy: {:.3f}'.format(i+1, num_epoch, step, elapsed, np.average(losses), np.average(accuracies)))\n",
    "                # loss が nan なら 飛ばす\n",
    "                if math.isnan(np.average(losses)):\n",
    "                    print('loss is nan')\n",
    "                    break\n",
    "                saver.save(sess, config.to_ckpt_path(), global_step=step)"
   ]
  },
  {
   "cell_type": "code",
   "execution_count": 12,
   "metadata": {
    "ExecuteTime": {
     "end_time": "2018-08-05T09:42:53.281705Z",
     "start_time": "2018-08-05T09:42:53.171050Z"
    }
   },
   "outputs": [],
   "source": [
    "def inference(sess, model, datasource, writer, s_acc, step):\n",
    "    with tf.name_scope('inference'):\n",
    "        test_list = datasource.feed_test_list(model)\n",
    "        acc, smr_acc = sess.run([model.accuracy, s_acc], feed_dict=test_list)\n",
    "        writer.add_summary(smr_acc, step)"
   ]
  },
  {
   "cell_type": "code",
   "execution_count": null,
   "metadata": {
    "ExecuteTime": {
     "start_time": "2018-08-05T09:42:50.818Z"
    },
    "scrolled": true
   },
   "outputs": [
    {
     "name": "stdout",
     "output_type": "stream",
     "text": [
      "WARNING:tensorflow:From /home/kentaro.nakanishi/.local/share/virtualenvs/rnn-text-classification-w9qS2Sz3/lib/python3.6/site-packages/tensorflow/python/ops/rnn.py:417: calling reverse_sequence (from tensorflow.python.ops.array_ops) with seq_dim is deprecated and will be removed in a future version.\n",
      "Instructions for updating:\n",
      "seq_dim is deprecated, use seq_axis instead\n",
      "WARNING:tensorflow:From /home/kentaro.nakanishi/.local/share/virtualenvs/rnn-text-classification-w9qS2Sz3/lib/python3.6/site-packages/tensorflow/python/util/deprecation.py:432: calling reverse_sequence (from tensorflow.python.ops.array_ops) with batch_dim is deprecated and will be removed in a future version.\n",
      "Instructions for updating:\n",
      "batch_dim is deprecated, use batch_axis instead\n",
      "epoch 1/200 finished, 327 step, elapsed 63.05414271354675 sec. average loss: 7.291, average accuracy: 0.066\n",
      "epoch 2/200 finished, 655 step, elapsed 62.784444093704224 sec. average loss: 6.763, average accuracy: 0.122\n",
      "epoch 3/200 finished, 983 step, elapsed 64.81405925750732 sec. average loss: 6.470, average accuracy: 0.148\n",
      "epoch 4/200 finished, 1311 step, elapsed 64.68730759620667 sec. average loss: 6.336, average accuracy: 0.161\n",
      "epoch 5/200 finished, 1639 step, elapsed 66.68140697479248 sec. average loss: 6.196, average accuracy: 0.175\n",
      "epoch 6/200 finished, 1967 step, elapsed 65.44995546340942 sec. average loss: 6.112, average accuracy: 0.184\n",
      "epoch 7/200 finished, 2295 step, elapsed 65.29462242126465 sec. average loss: 6.018, average accuracy: 0.190\n",
      "epoch 8/200 finished, 2623 step, elapsed 64.58694672584534 sec. average loss: 5.995, average accuracy: 0.193\n",
      "epoch 9/200 finished, 2951 step, elapsed 65.00166845321655 sec. average loss: 5.890, average accuracy: 0.204\n",
      "epoch 10/200 finished, 3279 step, elapsed 65.4075448513031 sec. average loss: 5.874, average accuracy: 0.203\n",
      "epoch 11/200 finished, 3607 step, elapsed 65.55463457107544 sec. average loss: 5.762, average accuracy: 0.212\n",
      "epoch 12/200 finished, 3935 step, elapsed 64.85415387153625 sec. average loss: 5.706, average accuracy: 0.218\n",
      "epoch 13/200 finished, 4263 step, elapsed 65.0019428730011 sec. average loss: 5.646, average accuracy: 0.225\n",
      "epoch 14/200 finished, 4591 step, elapsed 65.74585223197937 sec. average loss: 5.648, average accuracy: 0.223\n",
      "epoch 15/200 finished, 4919 step, elapsed 65.83215951919556 sec. average loss: 5.621, average accuracy: 0.226\n",
      "epoch 16/200 finished, 5247 step, elapsed 65.33780837059021 sec. average loss: 5.549, average accuracy: 0.230\n",
      "epoch 17/200 finished, 5575 step, elapsed 65.12053918838501 sec. average loss: 5.547, average accuracy: 0.230\n",
      "epoch 18/200 finished, 5903 step, elapsed 64.8361279964447 sec. average loss: 5.504, average accuracy: 0.236\n",
      "epoch 19/200 finished, 6231 step, elapsed 65.05472874641418 sec. average loss: 5.471, average accuracy: 0.238\n",
      "epoch 20/200 finished, 6559 step, elapsed 64.73590517044067 sec. average loss: 5.383, average accuracy: 0.247\n",
      "epoch 21/200 finished, 6887 step, elapsed 64.90336203575134 sec. average loss: 5.392, average accuracy: 0.245\n",
      "epoch 22/200 finished, 7215 step, elapsed 65.44308996200562 sec. average loss: 5.384, average accuracy: 0.243\n",
      "epoch 23/200 finished, 7543 step, elapsed 64.9569571018219 sec. average loss: 5.349, average accuracy: 0.247\n",
      "epoch 24/200 finished, 7871 step, elapsed 64.89074730873108 sec. average loss: 5.295, average accuracy: 0.255\n",
      "epoch 25/200 finished, 8199 step, elapsed 64.94803190231323 sec. average loss: 5.282, average accuracy: 0.254\n",
      "epoch 26/200 finished, 8527 step, elapsed 64.66550064086914 sec. average loss: 5.245, average accuracy: 0.254\n",
      "epoch 27/200 finished, 8855 step, elapsed 65.18765377998352 sec. average loss: 5.238, average accuracy: 0.261\n",
      "epoch 28/200 finished, 9183 step, elapsed 65.104825258255 sec. average loss: 5.184, average accuracy: 0.264\n",
      "epoch 29/200 finished, 9511 step, elapsed 66.33434391021729 sec. average loss: 5.148, average accuracy: 0.267\n",
      "epoch 30/200 finished, 9839 step, elapsed 65.88730311393738 sec. average loss: 5.121, average accuracy: 0.268\n",
      "epoch 31/200 finished, 10167 step, elapsed 65.1620626449585 sec. average loss: 5.106, average accuracy: 0.272\n",
      "epoch 32/200 finished, 10495 step, elapsed 64.74777674674988 sec. average loss: 5.100, average accuracy: 0.270\n",
      "epoch 33/200 finished, 10823 step, elapsed 65.85539150238037 sec. average loss: 5.096, average accuracy: 0.271\n",
      "epoch 34/200 finished, 11151 step, elapsed 66.6103208065033 sec. average loss: 5.054, average accuracy: 0.274\n",
      "epoch 35/200 finished, 11479 step, elapsed 65.61243033409119 sec. average loss: 5.028, average accuracy: 0.274\n",
      "epoch 36/200 finished, 11807 step, elapsed 64.85240340232849 sec. average loss: 5.005, average accuracy: 0.277\n",
      "epoch 37/200 finished, 12135 step, elapsed 65.79511880874634 sec. average loss: 4.996, average accuracy: 0.281\n",
      "epoch 38/200 finished, 12463 step, elapsed 64.61276245117188 sec. average loss: 4.959, average accuracy: 0.285\n",
      "epoch 39/200 finished, 12791 step, elapsed 64.96165776252747 sec. average loss: 4.946, average accuracy: 0.286\n",
      "epoch 40/200 finished, 13119 step, elapsed 63.86454153060913 sec. average loss: 4.935, average accuracy: 0.286\n",
      "epoch 41/200 finished, 13447 step, elapsed 66.1384117603302 sec. average loss: 4.913, average accuracy: 0.287\n",
      "epoch 42/200 finished, 13775 step, elapsed 64.51749968528748 sec. average loss: 4.888, average accuracy: 0.292\n",
      "epoch 43/200 finished, 14103 step, elapsed 64.4371325969696 sec. average loss: 4.876, average accuracy: 0.295\n",
      "epoch 44/200 finished, 14431 step, elapsed 64.76211452484131 sec. average loss: 4.868, average accuracy: 0.294\n",
      "epoch 45/200 finished, 14759 step, elapsed 65.5323839187622 sec. average loss: 4.828, average accuracy: 0.300\n",
      "epoch 46/200 finished, 15087 step, elapsed 64.77781677246094 sec. average loss: 4.826, average accuracy: 0.295\n",
      "epoch 47/200 finished, 15415 step, elapsed 66.42395806312561 sec. average loss: 4.779, average accuracy: 0.305\n",
      "epoch 48/200 finished, 15743 step, elapsed 65.75071382522583 sec. average loss: 4.786, average accuracy: 0.307\n",
      "epoch 49/200 finished, 16071 step, elapsed 65.19604969024658 sec. average loss: 4.740, average accuracy: 0.309\n",
      "epoch 50/200 finished, 16399 step, elapsed 65.3676266670227 sec. average loss: 4.760, average accuracy: 0.304\n",
      "epoch 51/200 finished, 16727 step, elapsed 65.27439451217651 sec. average loss: 4.772, average accuracy: 0.306\n",
      "epoch 52/200 finished, 17055 step, elapsed 64.61608743667603 sec. average loss: 4.687, average accuracy: 0.316\n",
      "epoch 53/200 finished, 17383 step, elapsed 66.23672103881836 sec. average loss: 4.678, average accuracy: 0.315\n",
      "epoch 54/200 finished, 17711 step, elapsed 65.59459328651428 sec. average loss: 4.664, average accuracy: 0.315\n",
      "epoch 55/200 finished, 18039 step, elapsed 64.77918744087219 sec. average loss: 4.651, average accuracy: 0.318\n",
      "epoch 56/200 finished, 18367 step, elapsed 65.99047136306763 sec. average loss: 4.662, average accuracy: 0.315\n",
      "epoch 57/200 finished, 18695 step, elapsed 66.00729060173035 sec. average loss: 4.590, average accuracy: 0.326\n",
      "epoch 58/200 finished, 19023 step, elapsed 65.0081467628479 sec. average loss: 4.607, average accuracy: 0.327\n",
      "epoch 59/200 finished, 19351 step, elapsed 64.38917899131775 sec. average loss: 4.590, average accuracy: 0.325\n",
      "epoch 60/200 finished, 19679 step, elapsed 65.52742552757263 sec. average loss: 4.540, average accuracy: 0.335\n",
      "epoch 61/200 finished, 20007 step, elapsed 64.42446422576904 sec. average loss: 4.512, average accuracy: 0.338\n",
      "epoch 62/200 finished, 20335 step, elapsed 65.93437314033508 sec. average loss: 4.517, average accuracy: 0.336\n",
      "epoch 63/200 finished, 20663 step, elapsed 65.11901593208313 sec. average loss: 4.532, average accuracy: 0.337\n",
      "epoch 64/200 finished, 20991 step, elapsed 64.0940911769867 sec. average loss: 4.512, average accuracy: 0.340\n",
      "epoch 65/200 finished, 21319 step, elapsed 65.99216318130493 sec. average loss: 4.471, average accuracy: 0.339\n",
      "epoch 66/200 finished, 21647 step, elapsed 65.08378410339355 sec. average loss: 4.476, average accuracy: 0.344\n",
      "epoch 67/200 finished, 21975 step, elapsed 65.68785810470581 sec. average loss: 4.499, average accuracy: 0.340\n",
      "epoch 68/200 finished, 22303 step, elapsed 65.55816149711609 sec. average loss: 4.455, average accuracy: 0.345\n"
     ]
    },
    {
     "name": "stdout",
     "output_type": "stream",
     "text": [
      "epoch 69/200 finished, 22631 step, elapsed 65.65715432167053 sec. average loss: 4.435, average accuracy: 0.345\n",
      "epoch 70/200 finished, 22959 step, elapsed 65.47271466255188 sec. average loss: 4.390, average accuracy: 0.357\n",
      "epoch 71/200 finished, 23287 step, elapsed 65.68262529373169 sec. average loss: 4.416, average accuracy: 0.351\n",
      "epoch 72/200 finished, 23615 step, elapsed 65.07423663139343 sec. average loss: 4.370, average accuracy: 0.355\n",
      "epoch 73/200 finished, 23943 step, elapsed 65.46194982528687 sec. average loss: 4.410, average accuracy: 0.351\n",
      "epoch 76/200 finished, 24927 step, elapsed 64.86922359466553 sec. average loss: 4.303, average accuracy: 0.366\n",
      "epoch 77/200 finished, 25255 step, elapsed 66.1532244682312 sec. average loss: 4.320, average accuracy: 0.365\n",
      "epoch 78/200 finished, 25583 step, elapsed 65.49885034561157 sec. average loss: 4.285, average accuracy: 0.373\n",
      "epoch 79/200 finished, 25911 step, elapsed 65.18831014633179 sec. average loss: 4.344, average accuracy: 0.361\n",
      "epoch 80/200 finished, 26239 step, elapsed 65.19123339653015 sec. average loss: 4.306, average accuracy: 0.366\n",
      "epoch 81/200 finished, 26567 step, elapsed 66.44386601448059 sec. average loss: 4.301, average accuracy: 0.366\n",
      "epoch 82/200 finished, 26895 step, elapsed 65.02178621292114 sec. average loss: 4.264, average accuracy: 0.375\n",
      "epoch 83/200 finished, 27223 step, elapsed 64.9168496131897 sec. average loss: 4.260, average accuracy: 0.374\n",
      "epoch 84/200 finished, 27551 step, elapsed 65.72592902183533 sec. average loss: 4.227, average accuracy: 0.377\n",
      "epoch 85/200 finished, 27879 step, elapsed 64.97983145713806 sec. average loss: 4.220, average accuracy: 0.380\n",
      "epoch 86/200 finished, 28207 step, elapsed 65.28031134605408 sec. average loss: 4.256, average accuracy: 0.370\n",
      "epoch 87/200 finished, 28535 step, elapsed 65.29447937011719 sec. average loss: 4.190, average accuracy: 0.386\n",
      "epoch 88/200 finished, 28863 step, elapsed 65.46755576133728 sec. average loss: 4.201, average accuracy: 0.382\n",
      "epoch 89/200 finished, 29191 step, elapsed 65.86556911468506 sec. average loss: 4.189, average accuracy: 0.386\n",
      "epoch 90/200 finished, 29519 step, elapsed 65.38792490959167 sec. average loss: 4.154, average accuracy: 0.389\n",
      "epoch 91/200 finished, 29847 step, elapsed 65.04937148094177 sec. average loss: 4.146, average accuracy: 0.393\n",
      "epoch 92/200 finished, 30175 step, elapsed 64.68740320205688 sec. average loss: 4.163, average accuracy: 0.394\n",
      "epoch 93/200 finished, 30503 step, elapsed 65.83499264717102 sec. average loss: 4.139, average accuracy: 0.395\n",
      "epoch 94/200 finished, 30831 step, elapsed 65.40226793289185 sec. average loss: 4.137, average accuracy: 0.393\n",
      "epoch 95/200 finished, 31159 step, elapsed 66.63668823242188 sec. average loss: 4.073, average accuracy: 0.400\n",
      "epoch 96/200 finished, 31487 step, elapsed 65.33117198944092 sec. average loss: 4.098, average accuracy: 0.396\n",
      "epoch 97/200 finished, 31815 step, elapsed 65.85010290145874 sec. average loss: 4.035, average accuracy: 0.415\n",
      "epoch 98/200 finished, 32143 step, elapsed 66.16925716400146 sec. average loss: 4.067, average accuracy: 0.405\n",
      "epoch 99/200 finished, 32471 step, elapsed 64.69855737686157 sec. average loss: 4.061, average accuracy: 0.404\n",
      "epoch 100/200 finished, 32799 step, elapsed 66.42250537872314 sec. average loss: 4.029, average accuracy: 0.409\n",
      "epoch 101/200 finished, 33127 step, elapsed 65.77286720275879 sec. average loss: 4.042, average accuracy: 0.407\n",
      "epoch 102/200 finished, 33455 step, elapsed 64.66244721412659 sec. average loss: 4.018, average accuracy: 0.410\n",
      "epoch 103/200 finished, 33783 step, elapsed 65.45968389511108 sec. average loss: 4.039, average accuracy: 0.408\n",
      "epoch 104/200 finished, 34111 step, elapsed 66.14862108230591 sec. average loss: 4.016, average accuracy: 0.412\n",
      "epoch 105/200 finished, 34439 step, elapsed 65.73675489425659 sec. average loss: 3.979, average accuracy: 0.418\n",
      "epoch 106/200 finished, 34767 step, elapsed 66.4135959148407 sec. average loss: 3.998, average accuracy: 0.417\n",
      "epoch 107/200 finished, 35095 step, elapsed 65.27130246162415 sec. average loss: 3.981, average accuracy: 0.420\n",
      "epoch 108/200 finished, 35423 step, elapsed 65.50868630409241 sec. average loss: 3.971, average accuracy: 0.417\n",
      "epoch 109/200 finished, 35751 step, elapsed 64.9767632484436 sec. average loss: 3.921, average accuracy: 0.430\n",
      "epoch 110/200 finished, 36079 step, elapsed 65.56918907165527 sec. average loss: 3.918, average accuracy: 0.430\n",
      "epoch 111/200 finished, 36407 step, elapsed 65.16437983512878 sec. average loss: 3.951, average accuracy: 0.421\n",
      "epoch 112/200 finished, 36735 step, elapsed 66.14841866493225 sec. average loss: 3.928, average accuracy: 0.433\n",
      "epoch 113/200 finished, 37063 step, elapsed 66.38129925727844 sec. average loss: 3.884, average accuracy: 0.435\n",
      "epoch 114/200 finished, 37391 step, elapsed 66.4765625 sec. average loss: 3.884, average accuracy: 0.439\n",
      "epoch 115/200 finished, 37719 step, elapsed 64.72871422767639 sec. average loss: 3.913, average accuracy: 0.430\n",
      "epoch 116/200 finished, 38047 step, elapsed 66.0493061542511 sec. average loss: 3.862, average accuracy: 0.440\n",
      "epoch 117/200 finished, 38375 step, elapsed 65.6860568523407 sec. average loss: 3.901, average accuracy: 0.433\n",
      "epoch 118/200 finished, 38703 step, elapsed 65.13909649848938 sec. average loss: 3.883, average accuracy: 0.435\n",
      "epoch 119/200 finished, 39031 step, elapsed 65.89949917793274 sec. average loss: 3.841, average accuracy: 0.443\n",
      "epoch 120/200 finished, 39359 step, elapsed 65.69849681854248 sec. average loss: 3.875, average accuracy: 0.436\n",
      "epoch 121/200 finished, 39687 step, elapsed 65.49099278450012 sec. average loss: 3.877, average accuracy: 0.435\n",
      "epoch 122/200 finished, 40015 step, elapsed 65.87735104560852 sec. average loss: 3.816, average accuracy: 0.447\n",
      "epoch 123/200 finished, 40343 step, elapsed 66.3502151966095 sec. average loss: 3.834, average accuracy: 0.445\n",
      "epoch 124/200 finished, 40671 step, elapsed 65.58263945579529 sec. average loss: 3.819, average accuracy: 0.447\n",
      "epoch 125/200 finished, 40999 step, elapsed 65.00357174873352 sec. average loss: 3.809, average accuracy: 0.450\n",
      "epoch 126/200 finished, 41327 step, elapsed 66.49161100387573 sec. average loss: 3.779, average accuracy: 0.453\n",
      "epoch 127/200 finished, 41655 step, elapsed 64.89323425292969 sec. average loss: 3.784, average accuracy: 0.454\n",
      "epoch 128/200 finished, 41983 step, elapsed 65.30675673484802 sec. average loss: 3.818, average accuracy: 0.449\n",
      "epoch 129/200 finished, 42311 step, elapsed 65.02274703979492 sec. average loss: 3.777, average accuracy: 0.452\n",
      "epoch 130/200 finished, 42639 step, elapsed 65.20324850082397 sec. average loss: 3.752, average accuracy: 0.458\n",
      "epoch 131/200 finished, 42967 step, elapsed 65.19992470741272 sec. average loss: 3.746, average accuracy: 0.459\n",
      "epoch 132/200 finished, 43295 step, elapsed 65.5423572063446 sec. average loss: 3.763, average accuracy: 0.455\n",
      "epoch 133/200 finished, 43623 step, elapsed 65.26918029785156 sec. average loss: 3.728, average accuracy: 0.461\n",
      "epoch 134/200 finished, 43951 step, elapsed 65.1489942073822 sec. average loss: 3.761, average accuracy: 0.455\n",
      "epoch 135/200 finished, 44279 step, elapsed 65.01549339294434 sec. average loss: 3.725, average accuracy: 0.465\n",
      "epoch 136/200 finished, 44607 step, elapsed 65.42153763771057 sec. average loss: 3.737, average accuracy: 0.457\n",
      "epoch 137/200 finished, 44935 step, elapsed 65.79954290390015 sec. average loss: 3.667, average accuracy: 0.473\n",
      "epoch 138/200 finished, 45263 step, elapsed 64.90208220481873 sec. average loss: 3.717, average accuracy: 0.461\n",
      "epoch 139/200 finished, 45591 step, elapsed 65.15241003036499 sec. average loss: 3.688, average accuracy: 0.470\n",
      "epoch 140/200 finished, 45919 step, elapsed 66.25261282920837 sec. average loss: 3.696, average accuracy: 0.470\n",
      "epoch 141/200 finished, 46247 step, elapsed 65.20006585121155 sec. average loss: 3.697, average accuracy: 0.466\n",
      "epoch 142/200 finished, 46575 step, elapsed 65.33168196678162 sec. average loss: 3.678, average accuracy: 0.469\n",
      "epoch 143/200 finished, 46903 step, elapsed 66.2080442905426 sec. average loss: 3.655, average accuracy: 0.477\n",
      "epoch 144/200 finished, 47231 step, elapsed 66.58387994766235 sec. average loss: 3.645, average accuracy: 0.476\n"
     ]
    },
    {
     "name": "stdout",
     "output_type": "stream",
     "text": [
      "epoch 145/200 finished, 47559 step, elapsed 65.75812411308289 sec. average loss: 3.641, average accuracy: 0.477\n",
      "epoch 146/200 finished, 47887 step, elapsed 66.68588399887085 sec. average loss: 3.628, average accuracy: 0.477\n",
      "epoch 147/200 finished, 48215 step, elapsed 65.21528911590576 sec. average loss: 3.684, average accuracy: 0.472\n",
      "epoch 148/200 finished, 48543 step, elapsed 65.27357459068298 sec. average loss: 3.628, average accuracy: 0.480\n",
      "epoch 149/200 finished, 48871 step, elapsed 65.90938758850098 sec. average loss: 3.640, average accuracy: 0.478\n",
      "epoch 150/200 finished, 49199 step, elapsed 64.8878698348999 sec. average loss: 3.642, average accuracy: 0.476\n",
      "epoch 151/200 finished, 49527 step, elapsed 65.18003988265991 sec. average loss: 3.561, average accuracy: 0.492\n",
      "epoch 152/200 finished, 49855 step, elapsed 66.3232204914093 sec. average loss: 3.627, average accuracy: 0.478\n",
      "epoch 153/200 finished, 50183 step, elapsed 65.18017244338989 sec. average loss: 3.572, average accuracy: 0.490\n",
      "epoch 154/200 finished, 50511 step, elapsed 65.88240671157837 sec. average loss: 3.634, average accuracy: 0.477\n",
      "epoch 155/200 finished, 50839 step, elapsed 65.71529769897461 sec. average loss: 3.545, average accuracy: 0.497\n",
      "epoch 156/200 finished, 51167 step, elapsed 65.65000128746033 sec. average loss: 3.596, average accuracy: 0.485\n",
      "epoch 157/200 finished, 51495 step, elapsed 65.86760973930359 sec. average loss: 3.571, average accuracy: 0.492\n",
      "epoch 158/200 finished, 51823 step, elapsed 65.88213276863098 sec. average loss: 3.592, average accuracy: 0.487\n",
      "epoch 159/200 finished, 52151 step, elapsed 65.67556762695312 sec. average loss: 3.560, average accuracy: 0.491\n",
      "epoch 160/200 finished, 52479 step, elapsed 65.61113476753235 sec. average loss: 3.522, average accuracy: 0.499\n",
      "epoch 161/200 finished, 52807 step, elapsed 65.9371747970581 sec. average loss: 3.559, average accuracy: 0.493\n",
      "epoch 162/200 finished, 53135 step, elapsed 64.93808245658875 sec. average loss: 3.531, average accuracy: 0.497\n",
      "epoch 163/200 finished, 53463 step, elapsed 65.2244508266449 sec. average loss: 3.532, average accuracy: 0.503\n",
      "epoch 164/200 finished, 53791 step, elapsed 64.58539462089539 sec. average loss: 3.521, average accuracy: 0.500\n",
      "epoch 165/200 finished, 54119 step, elapsed 66.60518622398376 sec. average loss: 3.506, average accuracy: 0.504\n",
      "epoch 166/200 finished, 54447 step, elapsed 67.36464524269104 sec. average loss: 3.518, average accuracy: 0.499\n",
      "epoch 167/200 finished, 54775 step, elapsed 66.29449939727783 sec. average loss: 3.539, average accuracy: 0.496\n",
      "epoch 168/200 finished, 55103 step, elapsed 66.14080142974854 sec. average loss: 3.520, average accuracy: 0.501\n",
      "epoch 169/200 finished, 55431 step, elapsed 66.92875599861145 sec. average loss: 3.506, average accuracy: 0.499\n",
      "epoch 170/200 finished, 55759 step, elapsed 65.53162956237793 sec. average loss: 3.501, average accuracy: 0.502\n",
      "epoch 171/200 finished, 56087 step, elapsed 66.26496362686157 sec. average loss: 3.491, average accuracy: 0.505\n",
      "epoch 172/200 finished, 56415 step, elapsed 64.70884799957275 sec. average loss: 3.519, average accuracy: 0.500\n",
      "epoch 173/200 finished, 56743 step, elapsed 65.54576516151428 sec. average loss: 3.530, average accuracy: 0.498\n",
      "epoch 174/200 finished, 57071 step, elapsed 65.68174123764038 sec. average loss: 3.510, average accuracy: 0.502\n",
      "epoch 175/200 finished, 57399 step, elapsed 65.95444798469543 sec. average loss: 3.468, average accuracy: 0.511\n",
      "epoch 176/200 finished, 57727 step, elapsed 65.47695064544678 sec. average loss: 3.459, average accuracy: 0.508\n",
      "epoch 177/200 finished, 58055 step, elapsed 65.78324270248413 sec. average loss: 3.504, average accuracy: 0.501\n",
      "epoch 178/200 finished, 58383 step, elapsed 66.16888070106506 sec. average loss: 3.448, average accuracy: 0.513\n",
      "epoch 179/200 finished, 58711 step, elapsed 65.27084875106812 sec. average loss: 3.461, average accuracy: 0.509\n",
      "epoch 180/200 finished, 59039 step, elapsed 66.29582715034485 sec. average loss: 3.458, average accuracy: 0.509\n",
      "epoch 181/200 finished, 59367 step, elapsed 67.55599641799927 sec. average loss: 3.422, average accuracy: 0.517\n",
      "epoch 182/200 finished, 59695 step, elapsed 64.57728147506714 sec. average loss: 3.443, average accuracy: 0.511\n",
      "epoch 183/200 finished, 60023 step, elapsed 66.96541428565979 sec. average loss: 3.474, average accuracy: 0.507\n",
      "epoch 184/200 finished, 60351 step, elapsed 65.23116827011108 sec. average loss: 3.453, average accuracy: 0.513\n",
      "epoch 185/200 finished, 60679 step, elapsed 66.53485536575317 sec. average loss: 3.437, average accuracy: 0.513\n",
      "epoch 186/200 finished, 61007 step, elapsed 65.65243697166443 sec. average loss: 3.389, average accuracy: 0.525\n",
      "epoch 187/200 finished, 61335 step, elapsed 65.07204151153564 sec. average loss: 3.396, average accuracy: 0.525\n",
      "epoch 188/200 finished, 61663 step, elapsed 66.30761432647705 sec. average loss: 3.380, average accuracy: 0.529\n",
      "epoch 189/200 finished, 61991 step, elapsed 65.7575478553772 sec. average loss: 3.385, average accuracy: 0.523\n",
      "epoch 190/200 finished, 62319 step, elapsed 66.42425584793091 sec. average loss: 3.385, average accuracy: 0.524\n",
      "epoch 191/200 finished, 62647 step, elapsed 65.66198873519897 sec. average loss: 3.379, average accuracy: 0.527\n",
      "epoch 192/200 finished, 62975 step, elapsed 65.54854989051819 sec. average loss: 3.411, average accuracy: 0.529\n",
      "epoch 193/200 finished, 63303 step, elapsed 66.10210633277893 sec. average loss: 3.401, average accuracy: 0.521\n",
      "epoch 194/200 finished, 63631 step, elapsed 67.12295150756836 sec. average loss: 3.404, average accuracy: 0.519\n",
      "epoch 195/200 finished, 63959 step, elapsed 65.6327006816864 sec. average loss: 3.396, average accuracy: 0.522\n",
      "epoch 196/200 finished, 64287 step, elapsed 65.40856337547302 sec. average loss: 3.351, average accuracy: 0.532\n",
      "epoch 197/200 finished, 64615 step, elapsed 64.8529143333435 sec. average loss: 3.362, average accuracy: 0.528\n",
      "epoch 198/200 finished, 64943 step, elapsed 65.05816531181335 sec. average loss: 3.347, average accuracy: 0.532\n",
      "epoch 199/200 finished, 65271 step, elapsed 65.7941358089447 sec. average loss: 3.342, average accuracy: 0.532\n",
      "epoch 200/200 finished, 65599 step, elapsed 65.29032278060913 sec. average loss: 3.353, average accuracy: 0.528\n",
      "epoch 1/200 finished, 327 step, elapsed 178.00514316558838 sec. average loss: 7.296, average accuracy: 0.073\n",
      "epoch 2/200 finished, 655 step, elapsed 177.91818571090698 sec. average loss: 6.713, average accuracy: 0.127\n",
      "epoch 3/200 finished, 983 step, elapsed 175.65289950370789 sec. average loss: 6.470, average accuracy: 0.151\n",
      "epoch 4/200 finished, 1311 step, elapsed 177.44866275787354 sec. average loss: 6.324, average accuracy: 0.161\n",
      "epoch 5/200 finished, 1639 step, elapsed 177.64444732666016 sec. average loss: 6.150, average accuracy: 0.181\n",
      "epoch 6/200 finished, 1967 step, elapsed 176.18736290931702 sec. average loss: 6.080, average accuracy: 0.186\n",
      "epoch 7/200 finished, 2295 step, elapsed 178.00413417816162 sec. average loss: 5.977, average accuracy: 0.195\n",
      "epoch 8/200 finished, 2623 step, elapsed 175.32057976722717 sec. average loss: 5.941, average accuracy: 0.199\n",
      "epoch 9/200 finished, 2951 step, elapsed 178.04393649101257 sec. average loss: 5.851, average accuracy: 0.206\n",
      "epoch 10/200 finished, 3279 step, elapsed 174.37889695167542 sec. average loss: 5.792, average accuracy: 0.210\n",
      "epoch 11/200 finished, 3607 step, elapsed 174.71578216552734 sec. average loss: 5.723, average accuracy: 0.218\n",
      "epoch 12/200 finished, 3935 step, elapsed 175.80690050125122 sec. average loss: 5.683, average accuracy: 0.220\n",
      "epoch 13/200 finished, 4263 step, elapsed 179.8982138633728 sec. average loss: 5.649, average accuracy: 0.224\n",
      "epoch 14/200 finished, 4591 step, elapsed 177.73910522460938 sec. average loss: 5.565, average accuracy: 0.230\n",
      "epoch 15/200 finished, 4919 step, elapsed 172.72935581207275 sec. average loss: 5.550, average accuracy: 0.230\n",
      "epoch 16/200 finished, 5247 step, elapsed 176.1057493686676 sec. average loss: 5.512, average accuracy: 0.232\n",
      "epoch 17/200 finished, 5575 step, elapsed 174.93406319618225 sec. average loss: 5.444, average accuracy: 0.243\n",
      "epoch 18/200 finished, 5903 step, elapsed 175.31328010559082 sec. average loss: 5.415, average accuracy: 0.242\n"
     ]
    },
    {
     "name": "stdout",
     "output_type": "stream",
     "text": [
      "epoch 19/200 finished, 6231 step, elapsed 177.60658025741577 sec. average loss: 5.352, average accuracy: 0.252\n",
      "epoch 20/200 finished, 6559 step, elapsed 176.48895263671875 sec. average loss: 5.350, average accuracy: 0.252\n",
      "epoch 21/200 finished, 6887 step, elapsed 176.93118166923523 sec. average loss: 5.318, average accuracy: 0.255\n",
      "epoch 22/200 finished, 7215 step, elapsed 175.54602932929993 sec. average loss: 5.291, average accuracy: 0.255\n",
      "epoch 23/200 finished, 7543 step, elapsed 177.23572278022766 sec. average loss: 5.270, average accuracy: 0.255\n",
      "epoch 24/200 finished, 7871 step, elapsed 173.88826298713684 sec. average loss: 5.220, average accuracy: 0.263\n",
      "epoch 25/200 finished, 8199 step, elapsed 175.53213095664978 sec. average loss: 5.161, average accuracy: 0.265\n",
      "epoch 26/200 finished, 8527 step, elapsed 174.46259355545044 sec. average loss: 5.144, average accuracy: 0.266\n",
      "epoch 27/200 finished, 8855 step, elapsed 174.3110921382904 sec. average loss: 5.142, average accuracy: 0.266\n",
      "epoch 28/200 finished, 9183 step, elapsed 174.85003304481506 sec. average loss: 5.094, average accuracy: 0.270\n",
      "epoch 29/200 finished, 9511 step, elapsed 176.3226718902588 sec. average loss: 5.025, average accuracy: 0.279\n",
      "epoch 30/200 finished, 9839 step, elapsed 175.7010142803192 sec. average loss: 5.017, average accuracy: 0.281\n",
      "epoch 31/200 finished, 10167 step, elapsed 178.28846907615662 sec. average loss: 5.058, average accuracy: 0.273\n",
      "epoch 32/200 finished, 10495 step, elapsed 175.4530861377716 sec. average loss: 4.997, average accuracy: 0.280\n",
      "epoch 33/200 finished, 10823 step, elapsed 174.3376612663269 sec. average loss: 4.959, average accuracy: 0.286\n",
      "epoch 34/200 finished, 11151 step, elapsed 174.8632893562317 sec. average loss: 4.916, average accuracy: 0.288\n",
      "epoch 35/200 finished, 11479 step, elapsed 177.10951709747314 sec. average loss: 4.913, average accuracy: 0.287\n",
      "epoch 36/200 finished, 11807 step, elapsed 176.99680066108704 sec. average loss: 4.878, average accuracy: 0.294\n",
      "epoch 37/200 finished, 12135 step, elapsed 176.06336426734924 sec. average loss: 4.862, average accuracy: 0.293\n",
      "epoch 38/200 finished, 12463 step, elapsed 174.62944555282593 sec. average loss: 4.849, average accuracy: 0.295\n",
      "epoch 39/200 finished, 12791 step, elapsed 176.43342638015747 sec. average loss: 4.801, average accuracy: 0.302\n",
      "epoch 40/200 finished, 13119 step, elapsed 174.59815883636475 sec. average loss: 4.752, average accuracy: 0.306\n",
      "epoch 41/200 finished, 13447 step, elapsed 176.0497965812683 sec. average loss: 4.718, average accuracy: 0.310\n",
      "epoch 42/200 finished, 13775 step, elapsed 172.30250000953674 sec. average loss: 4.719, average accuracy: 0.317\n"
     ]
    }
   ],
   "source": [
    "for config in configs:\n",
    "    start()"
   ]
  },
  {
   "cell_type": "code",
   "execution_count": null,
   "metadata": {
    "ExecuteTime": {
     "end_time": "2018-08-05T08:18:31.466637Z",
     "start_time": "2018-08-05T08:18:27.913665Z"
    }
   },
   "outputs": [],
   "source": []
  }
 ],
 "metadata": {
  "kernelspec": {
   "display_name": "Python 3",
   "language": "python",
   "name": "python3"
  },
  "language_info": {
   "codemirror_mode": {
    "name": "ipython",
    "version": 3
   },
   "file_extension": ".py",
   "mimetype": "text/x-python",
   "name": "python",
   "nbconvert_exporter": "python",
   "pygments_lexer": "ipython3",
   "version": "3.6.5"
  },
  "varInspector": {
   "cols": {
    "lenName": 16,
    "lenType": 16,
    "lenVar": 40
   },
   "kernels_config": {
    "python": {
     "delete_cmd_postfix": "",
     "delete_cmd_prefix": "del ",
     "library": "var_list.py",
     "varRefreshCmd": "print(var_dic_list())"
    },
    "r": {
     "delete_cmd_postfix": ") ",
     "delete_cmd_prefix": "rm(",
     "library": "var_list.r",
     "varRefreshCmd": "cat(var_dic_list()) "
    }
   },
   "types_to_exclude": [
    "module",
    "function",
    "builtin_function_or_method",
    "instance",
    "_Feature"
   ],
   "window_display": false
  }
 },
 "nbformat": 4,
 "nbformat_minor": 2
}
