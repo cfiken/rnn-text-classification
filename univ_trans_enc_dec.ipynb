{
 "cells": [
  {
   "cell_type": "code",
   "execution_count": null,
   "metadata": {
    "ExecuteTime": {
     "end_time": "2018-09-22T03:27:37.979170Z",
     "start_time": "2018-09-22T03:27:37.168002Z"
    }
   },
   "outputs": [],
   "source": [
    "from utils.config import Config\n",
    "from dataloader.docomo_datasource import DocomoDataSource\n",
    "from models.transformer import Transformer"
   ]
  },
  {
   "cell_type": "code",
   "execution_count": null,
   "metadata": {
    "ExecuteTime": {
     "end_time": "2018-09-22T03:27:37.981808Z",
     "start_time": "2018-09-22T03:27:37.980245Z"
    }
   },
   "outputs": [],
   "source": [
    "import tensorflow as tf\n",
    "import numpy as np\n",
    "import matplotlib as plt"
   ]
  },
  {
   "cell_type": "code",
   "execution_count": null,
   "metadata": {
    "ExecuteTime": {
     "end_time": "2018-09-22T03:27:38.065293Z",
     "start_time": "2018-09-22T03:27:37.982770Z"
    }
   },
   "outputs": [],
   "source": [
    "#config = Config()\n",
    "#ds = DocomoDataSource(config)\n",
    "#ds.vocab_size"
   ]
  },
  {
   "cell_type": "code",
   "execution_count": null,
   "metadata": {
    "ExecuteTime": {
     "end_time": "2018-09-22T03:27:38.162161Z",
     "start_time": "2018-09-22T03:27:38.070854Z"
    }
   },
   "outputs": [],
   "source": [
    "units = [256, 512]\n",
    "layers = [2, 4, 6]\n",
    "lrs = [0.001]\n",
    "configs = []\n",
    "for l in layers:\n",
    "    for u in units:\n",
    "        for lr in lrs:\n",
    "            configs.append(Config(num_layers=l, num_units=u, learning_rate=lr, log_dir='./logs/transformer/'))"
   ]
  },
  {
   "cell_type": "code",
   "execution_count": null,
   "metadata": {},
   "outputs": [],
   "source": []
  },
  {
   "cell_type": "code",
   "execution_count": null,
   "metadata": {
    "ExecuteTime": {
     "end_time": "2018-09-22T03:27:38.228872Z",
     "start_time": "2018-09-22T03:27:38.167477Z"
    }
   },
   "outputs": [],
   "source": [
    "num_epochs = 20"
   ]
  },
  {
   "cell_type": "code",
   "execution_count": null,
   "metadata": {
    "ExecuteTime": {
     "end_time": "2018-09-22T03:27:38.293612Z",
     "start_time": "2018-09-22T03:27:38.233798Z"
    }
   },
   "outputs": [],
   "source": [
    "def run(configs, gpu_index, num_epochs=100):\n",
    "    for config in configs:\n",
    "        with tf.Graph().as_default():\n",
    "            with tf.device('/gpu:{}'.format(gpu_index)):\n",
    "                ds = DocomoDataSource(config)\n",
    "                model = Transformer(config, 'transformer')\n",
    "\n",
    "                global_step = tf.train.get_or_create_global_step()\n",
    "                optimizer = tf.train.AdamOptimizer(config.learning_rate)\n",
    "                train_op = optimizer.minimize(model.loss, global_step=global_step)\n",
    "\n",
    "\n",
    "                with tf.name_scope('summary'):\n",
    "                    loss_smr = tf.summary.scalar('loss', model.loss)\n",
    "                    acc_smr = tf.summary.scalar('acc', model.accuracy)\n",
    "                    merged_summary = tf.summary.merge_all()\n",
    "\n",
    "                tf_config = tf.ConfigProto(\n",
    "                    allow_soft_placement=True,\n",
    "                    gpu_options=tf.GPUOptions(\n",
    "                        allow_growth=True\n",
    "                    )\n",
    "                )\n",
    "                with tf.Session(config=tf_config) as sess:\n",
    "                    writer = tf.summary.FileWriter(model.config.to_log_dir() , sess.graph)\n",
    "                    sess.run(tf.global_variables_initializer())\n",
    "                    for epoch in range(num_epochs):\n",
    "                        ds.shuffle()\n",
    "                        batch_list = ds.feed_dict(model, model.config.batch_size, is_transformer=True)\n",
    "                        for fd in batch_list:\n",
    "                            fd[model.is_training] = True\n",
    "                            _, step, loss, acc, smr = sess.run([train_op, global_step, model.loss, model.accuracy, merged_summary], feed_dict=fd)\n",
    "                            #step = sess.run(global_step)\n",
    "                            writer.add_summary(smr, step)\n",
    "                            #if step % 100 == 0:\n",
    "                            #print('step: {}, loss: {:.3f}, acc: {:.3f}'.format(step, loss, acc))\n",
    "                        print('epoch {}/{} finished.'.format(epoch+1, num_epochs))"
   ]
  },
  {
   "cell_type": "code",
   "execution_count": null,
   "metadata": {
    "ExecuteTime": {
     "start_time": "2018-09-22T03:27:37.158Z"
    },
    "scrolled": true
   },
   "outputs": [],
   "source": [
    "run(configs, 1, num_epochs)"
   ]
  },
  {
   "cell_type": "code",
   "execution_count": null,
   "metadata": {
    "ExecuteTime": {
     "start_time": "2018-09-22T03:27:37.159Z"
    }
   },
   "outputs": [],
   "source": [
    "#import threading"
   ]
  },
  {
   "cell_type": "code",
   "execution_count": null,
   "metadata": {
    "ExecuteTime": {
     "start_time": "2018-09-22T03:27:37.160Z"
    }
   },
   "outputs": [],
   "source": [
    "#thread1 = threading.Thread(target=run, args=(configs[::2], 0, 100))\n",
    "#thread2 = threading.Thread(target=run, args=(configs[1::2], 1, 100))\n",
    "#threads = [thread1, thread2]\n",
    "# for t in threads:\n",
    "#     t.setDaemon(True)\n",
    "#     t.start()"
   ]
  },
  {
   "cell_type": "code",
   "execution_count": null,
   "metadata": {
    "ExecuteTime": {
     "start_time": "2018-09-22T03:27:37.161Z"
    },
    "scrolled": true
   },
   "outputs": [],
   "source": [
    "# for t in threads:\n",
    "#     t.join()"
   ]
  },
  {
   "cell_type": "code",
   "execution_count": null,
   "metadata": {
    "ExecuteTime": {
     "end_time": "2018-09-21T10:49:45.185311Z",
     "start_time": "2018-09-21T10:48:36.373Z"
    }
   },
   "outputs": [],
   "source": []
  },
  {
   "cell_type": "code",
   "execution_count": null,
   "metadata": {},
   "outputs": [],
   "source": []
  }
 ],
 "metadata": {
  "kernelspec": {
   "display_name": "Python 3",
   "language": "python",
   "name": "python3"
  },
  "language_info": {
   "codemirror_mode": {
    "name": "ipython",
    "version": 3
   },
   "file_extension": ".py",
   "mimetype": "text/x-python",
   "name": "python",
   "nbconvert_exporter": "python",
   "pygments_lexer": "ipython3",
   "version": "3.6.5"
  }
 },
 "nbformat": 4,
 "nbformat_minor": 2
}
